{
 "cells": [
  {
   "cell_type": "markdown",
   "metadata": {},
   "source": [
    "# Lab 1 - Used Cars in the USA\n",
    "#### By: David Wei, Sophia Wu, Dhruba Dey, Queena Wang"
   ]
  },
  {
   "cell_type": "markdown",
   "metadata": {},
   "source": [
    "### Summary:\n",
    "asdfasdfasdf\n",
    "\n",
    "### Description:\n",
    "asdfasdfas"
   ]
  },
  {
   "cell_type": "code",
   "execution_count": null,
   "metadata": {
    "scrolled": true
   },
   "outputs": [],
   "source": [
    "#pip install missingno"
   ]
  },
  {
   "cell_type": "code",
   "execution_count": 1,
   "metadata": {
    "scrolled": false
   },
   "outputs": [],
   "source": [
    "#importing libraries and reading in file\n",
    "import pandas as pd\n",
    "import numpy as np\n",
    "import warnings\n",
    "import missingno as msno\n",
    "warnings.filterwarnings('ignore') #ignoring warnings"
   ]
  },
  {
   "cell_type": "code",
   "execution_count": 2,
   "metadata": {
    "scrolled": true
   },
   "outputs": [],
   "source": [
    "# NOTE: need to change file per user\n",
    "df_raw = pd.read_csv(r'C:\\Data\\used_cars_data.csv')\n",
    "#df_raw = pd.read_csv('https://raw.githubusercontent.com/chee154/ml-Py-used_cars/main/data/kaggle_used_cars_data.csv')"
   ]
  },
  {
   "cell_type": "code",
   "execution_count": 3,
   "metadata": {
    "scrolled": true
   },
   "outputs": [
    {
     "data": {
      "text/html": [
       "<div>\n",
       "<style scoped>\n",
       "    .dataframe tbody tr th:only-of-type {\n",
       "        vertical-align: middle;\n",
       "    }\n",
       "\n",
       "    .dataframe tbody tr th {\n",
       "        vertical-align: top;\n",
       "    }\n",
       "\n",
       "    .dataframe thead th {\n",
       "        text-align: right;\n",
       "    }\n",
       "</style>\n",
       "<table border=\"1\" class=\"dataframe\">\n",
       "  <thead>\n",
       "    <tr style=\"text-align: right;\">\n",
       "      <th></th>\n",
       "      <th>vin</th>\n",
       "      <th>back_legroom</th>\n",
       "      <th>bed</th>\n",
       "      <th>bed_height</th>\n",
       "      <th>bed_length</th>\n",
       "      <th>body_type</th>\n",
       "      <th>cabin</th>\n",
       "      <th>city</th>\n",
       "      <th>city_fuel_economy</th>\n",
       "      <th>combine_fuel_economy</th>\n",
       "      <th>...</th>\n",
       "      <th>transmission</th>\n",
       "      <th>transmission_display</th>\n",
       "      <th>trimId</th>\n",
       "      <th>trim_name</th>\n",
       "      <th>vehicle_damage_category</th>\n",
       "      <th>wheel_system</th>\n",
       "      <th>wheel_system_display</th>\n",
       "      <th>wheelbase</th>\n",
       "      <th>width</th>\n",
       "      <th>year</th>\n",
       "    </tr>\n",
       "  </thead>\n",
       "  <tbody>\n",
       "    <tr>\n",
       "      <th>0</th>\n",
       "      <td>ZACNJABB5KPJ92081</td>\n",
       "      <td>35.1 in</td>\n",
       "      <td>NaN</td>\n",
       "      <td>NaN</td>\n",
       "      <td>NaN</td>\n",
       "      <td>SUV / Crossover</td>\n",
       "      <td>NaN</td>\n",
       "      <td>Bayamon</td>\n",
       "      <td>NaN</td>\n",
       "      <td>NaN</td>\n",
       "      <td>...</td>\n",
       "      <td>A</td>\n",
       "      <td>9-Speed Automatic Overdrive</td>\n",
       "      <td>t83804</td>\n",
       "      <td>Latitude FWD</td>\n",
       "      <td>NaN</td>\n",
       "      <td>FWD</td>\n",
       "      <td>Front-Wheel Drive</td>\n",
       "      <td>101.2 in</td>\n",
       "      <td>79.6 in</td>\n",
       "      <td>2019</td>\n",
       "    </tr>\n",
       "    <tr>\n",
       "      <th>1</th>\n",
       "      <td>SALCJ2FX1LH858117</td>\n",
       "      <td>38.1 in</td>\n",
       "      <td>NaN</td>\n",
       "      <td>NaN</td>\n",
       "      <td>NaN</td>\n",
       "      <td>SUV / Crossover</td>\n",
       "      <td>NaN</td>\n",
       "      <td>San Juan</td>\n",
       "      <td>NaN</td>\n",
       "      <td>NaN</td>\n",
       "      <td>...</td>\n",
       "      <td>A</td>\n",
       "      <td>9-Speed Automatic Overdrive</td>\n",
       "      <td>t86759</td>\n",
       "      <td>S AWD</td>\n",
       "      <td>NaN</td>\n",
       "      <td>AWD</td>\n",
       "      <td>All-Wheel Drive</td>\n",
       "      <td>107.9 in</td>\n",
       "      <td>85.6 in</td>\n",
       "      <td>2020</td>\n",
       "    </tr>\n",
       "    <tr>\n",
       "      <th>2</th>\n",
       "      <td>JF1VA2M67G9829723</td>\n",
       "      <td>35.4 in</td>\n",
       "      <td>NaN</td>\n",
       "      <td>NaN</td>\n",
       "      <td>NaN</td>\n",
       "      <td>Sedan</td>\n",
       "      <td>NaN</td>\n",
       "      <td>Guaynabo</td>\n",
       "      <td>17.0</td>\n",
       "      <td>NaN</td>\n",
       "      <td>...</td>\n",
       "      <td>M</td>\n",
       "      <td>6-Speed Manual</td>\n",
       "      <td>t58994</td>\n",
       "      <td>Base</td>\n",
       "      <td>NaN</td>\n",
       "      <td>AWD</td>\n",
       "      <td>All-Wheel Drive</td>\n",
       "      <td>104.3 in</td>\n",
       "      <td>78.9 in</td>\n",
       "      <td>2016</td>\n",
       "    </tr>\n",
       "    <tr>\n",
       "      <th>3</th>\n",
       "      <td>SALRR2RV0L2433391</td>\n",
       "      <td>37.6 in</td>\n",
       "      <td>NaN</td>\n",
       "      <td>NaN</td>\n",
       "      <td>NaN</td>\n",
       "      <td>SUV / Crossover</td>\n",
       "      <td>NaN</td>\n",
       "      <td>San Juan</td>\n",
       "      <td>NaN</td>\n",
       "      <td>NaN</td>\n",
       "      <td>...</td>\n",
       "      <td>A</td>\n",
       "      <td>8-Speed Automatic Overdrive</td>\n",
       "      <td>t86074</td>\n",
       "      <td>V6 HSE AWD</td>\n",
       "      <td>NaN</td>\n",
       "      <td>AWD</td>\n",
       "      <td>All-Wheel Drive</td>\n",
       "      <td>115 in</td>\n",
       "      <td>87.4 in</td>\n",
       "      <td>2020</td>\n",
       "    </tr>\n",
       "    <tr>\n",
       "      <th>4</th>\n",
       "      <td>SALCJ2FXXLH862327</td>\n",
       "      <td>38.1 in</td>\n",
       "      <td>NaN</td>\n",
       "      <td>NaN</td>\n",
       "      <td>NaN</td>\n",
       "      <td>SUV / Crossover</td>\n",
       "      <td>NaN</td>\n",
       "      <td>San Juan</td>\n",
       "      <td>NaN</td>\n",
       "      <td>NaN</td>\n",
       "      <td>...</td>\n",
       "      <td>A</td>\n",
       "      <td>9-Speed Automatic Overdrive</td>\n",
       "      <td>t86759</td>\n",
       "      <td>S AWD</td>\n",
       "      <td>NaN</td>\n",
       "      <td>AWD</td>\n",
       "      <td>All-Wheel Drive</td>\n",
       "      <td>107.9 in</td>\n",
       "      <td>85.6 in</td>\n",
       "      <td>2020</td>\n",
       "    </tr>\n",
       "  </tbody>\n",
       "</table>\n",
       "<p>5 rows × 66 columns</p>\n",
       "</div>"
      ],
      "text/plain": [
       "                 vin back_legroom  bed bed_height bed_length        body_type  \\\n",
       "0  ZACNJABB5KPJ92081      35.1 in  NaN        NaN        NaN  SUV / Crossover   \n",
       "1  SALCJ2FX1LH858117      38.1 in  NaN        NaN        NaN  SUV / Crossover   \n",
       "2  JF1VA2M67G9829723      35.4 in  NaN        NaN        NaN            Sedan   \n",
       "3  SALRR2RV0L2433391      37.6 in  NaN        NaN        NaN  SUV / Crossover   \n",
       "4  SALCJ2FXXLH862327      38.1 in  NaN        NaN        NaN  SUV / Crossover   \n",
       "\n",
       "  cabin      city  city_fuel_economy  combine_fuel_economy  ...  transmission  \\\n",
       "0   NaN   Bayamon                NaN                   NaN  ...             A   \n",
       "1   NaN  San Juan                NaN                   NaN  ...             A   \n",
       "2   NaN  Guaynabo               17.0                   NaN  ...             M   \n",
       "3   NaN  San Juan                NaN                   NaN  ...             A   \n",
       "4   NaN  San Juan                NaN                   NaN  ...             A   \n",
       "\n",
       "          transmission_display  trimId     trim_name  vehicle_damage_category  \\\n",
       "0  9-Speed Automatic Overdrive  t83804  Latitude FWD                      NaN   \n",
       "1  9-Speed Automatic Overdrive  t86759         S AWD                      NaN   \n",
       "2               6-Speed Manual  t58994          Base                      NaN   \n",
       "3  8-Speed Automatic Overdrive  t86074    V6 HSE AWD                      NaN   \n",
       "4  9-Speed Automatic Overdrive  t86759         S AWD                      NaN   \n",
       "\n",
       "  wheel_system wheel_system_display wheelbase    width  year  \n",
       "0          FWD    Front-Wheel Drive  101.2 in  79.6 in  2019  \n",
       "1          AWD      All-Wheel Drive  107.9 in  85.6 in  2020  \n",
       "2          AWD      All-Wheel Drive  104.3 in  78.9 in  2016  \n",
       "3          AWD      All-Wheel Drive    115 in  87.4 in  2020  \n",
       "4          AWD      All-Wheel Drive  107.9 in  85.6 in  2020  \n",
       "\n",
       "[5 rows x 66 columns]"
      ]
     },
     "execution_count": 3,
     "metadata": {},
     "output_type": "execute_result"
    }
   ],
   "source": [
    "df_raw.head(5)"
   ]
  },
  {
   "cell_type": "code",
   "execution_count": 4,
   "metadata": {
    "scrolled": true
   },
   "outputs": [
    {
     "name": "stdout",
     "output_type": "stream",
     "text": [
      "Total # of Records: 3000040\n",
      "Total # of Columns: 66\n"
     ]
    }
   ],
   "source": [
    "print(\"Total # of Records: \" + str(df_raw.shape[0]))\n",
    "print(\"Total # of Columns: \" + str(df_raw.shape[1]))"
   ]
  },
  {
   "cell_type": "markdown",
   "metadata": {},
   "source": [
    "### Reducing Dataset Attributes\n",
    "The total dataset has about 66 total columns. After a quick observation of the column headers, we can deduce that not all columns will be necessary for our analysis. Reasons for removing them below:\n",
    "\n",
    "..."
   ]
  },
  {
   "cell_type": "code",
   "execution_count": 5,
   "metadata": {
    "scrolled": false
   },
   "outputs": [
    {
     "name": "stdout",
     "output_type": "stream",
     "text": [
      "<class 'pandas.core.frame.DataFrame'>\n",
      "RangeIndex: 3000040 entries, 0 to 3000039\n",
      "Data columns (total 40 columns):\n",
      " #   Column                Dtype  \n",
      "---  ------                -----  \n",
      " 0   vin                   object \n",
      " 1   body_type             object \n",
      " 2   city                  object \n",
      " 3   city_fuel_economy     float64\n",
      " 4   combine_fuel_economy  float64\n",
      " 5   daysonmarket          int64  \n",
      " 6   engine_cylinders      object \n",
      " 7   engine_displacement   float64\n",
      " 8   engine_type           object \n",
      " 9   exterior_color        object \n",
      " 10  frame_damaged         object \n",
      " 11  franchise_dealer      bool   \n",
      " 12  franchise_make        object \n",
      " 13  fuel_tank_volume      object \n",
      " 14  fuel_type             object \n",
      " 15  has_accidents         object \n",
      " 16  height                object \n",
      " 17  highway_fuel_economy  float64\n",
      " 18  horsepower            float64\n",
      " 19  interior_color        object \n",
      " 20  isCab                 object \n",
      " 21  is_new                bool   \n",
      " 22  length                object \n",
      " 23  listed_date           object \n",
      " 24  listing_color         object \n",
      " 25  make_name             object \n",
      " 26  maximum_seating       object \n",
      " 27  mileage               float64\n",
      " 28  model_name            object \n",
      " 29  owner_count           float64\n",
      " 30  power                 object \n",
      " 31  price                 float64\n",
      " 32  salvage               object \n",
      " 33  seller_rating         float64\n",
      " 34  torque                object \n",
      " 35  transmission          object \n",
      " 36  wheel_system          object \n",
      " 37  wheel_system_display  object \n",
      " 38  width                 object \n",
      " 39  year                  int64  \n",
      "dtypes: bool(2), float64(9), int64(2), object(27)\n",
      "memory usage: 875.5+ MB\n",
      "None\n"
     ]
    }
   ],
   "source": [
    "#subsetting columns by referencing the column indexes\n",
    "df_cln_1 = df_raw.iloc[:, np.r_[0,5,7:11,13:17,18:21,22:30,32,35:38,42:50,51,55:57,61:63,64:66]]\n",
    "print(df_cln_1.info())"
   ]
  },
  {
   "cell_type": "code",
   "execution_count": null,
   "metadata": {},
   "outputs": [],
   "source": [
    "msno.matrix(df_cln_1)"
   ]
  },
  {
   "cell_type": "code",
   "execution_count": 6,
   "metadata": {},
   "outputs": [
    {
     "name": "stdout",
     "output_type": "stream",
     "text": [
      "39\n"
     ]
    }
   ],
   "source": [
    "# removing city_fuel_economy since a quick vizualition of our dataset shows that ALL values are empty\n",
    "df_cln_2 = df_cln_1.drop(columns='combine_fuel_economy')\n",
    "print(df_cln_2.shape[1])"
   ]
  },
  {
   "cell_type": "markdown",
   "metadata": {},
   "source": [
    "### Data Cleaning - Datatypes\n",
    "Obviously at this point we need to convert a few of our data columns to the appropriate data type by removing parts of the value string that we do not need such as \"gal\" in the ful_tank_volume"
   ]
  },
  {
   "cell_type": "code",
   "execution_count": 7,
   "metadata": {
    "scrolled": false
   },
   "outputs": [
    {
     "name": "stdout",
     "output_type": "stream",
     "text": [
      "['I4' 'H4' 'V6' 'I6' 'V6 Diesel' nan 'V8' 'V8 Biodiesel'\n",
      " 'V8 Flex Fuel Vehicle' 'V6 Flex Fuel Vehicle' 'I4 Hybrid' 'V6 Hybrid'\n",
      " 'I3' 'I5' 'I4 Flex Fuel Vehicle' 'I4 Diesel' 'I6 Diesel' 'V8 Diesel' 'R2'\n",
      " 'W12' 'V10' 'V12' 'V6 Biodiesel' 'H6' 'I2' 'W12 Flex Fuel Vehicle'\n",
      " 'I5 Biodiesel' 'V8 Hybrid' 'H4 Hybrid' 'V8 Compressed Natural Gas'\n",
      " 'I6 Hybrid' 'I5 Diesel' 'W8' 'I4 Compressed Natural Gas' 'V10 Diesel'\n",
      " 'W16' 'V8 Propane' 'I3 Hybrid' 'V6 Compressed Natural Gas' 'V12 Hybrid']\n",
      "['Solar Yellow' 'Narvik Black' 'None' ... 'Low Vol Bright Red' 'Modern S'\n",
      " 'Cosmic']\n",
      "[nan False True]\n",
      "[ True False]\n",
      "['Jeep' 'Land Rover' 'FIAT' 'Chevrolet' 'Cadillac' 'Chrysler' 'Dodge'\n",
      " 'RAM' nan 'Kia' 'Mazda' 'Audi' 'Hyundai' 'Ford' 'Toyota' 'Lincoln'\n",
      " 'Volvo' 'GMC' 'Volkswagen' 'BMW' 'Lexus' 'Buick' 'Subaru' 'Scion' 'Honda'\n",
      " 'Nissan' 'Acura' 'INFINITI' 'Porsche' 'Rolls-Royce' 'Bentley'\n",
      " 'Lamborghini' 'Mercedes-Benz' 'Jaguar' 'Maserati' 'Alfa Romeo' 'Ferrari'\n",
      " 'MINI' 'Mitsubishi' 'Aston Martin' 'Lotus' 'McLaren' 'Pagani' 'Genesis'\n",
      " 'SRT' 'smart' 'Rover' 'Shelby' 'Freightliner']\n",
      "['12.7 gal' '17.7 gal' '15.9 gal' '23.5 gal' '16.6 gal' '13.2 gal'\n",
      " '10.5 gal' '15.8 gal' '22.5 gal' '14.8 gal' '14 gal' '17.4 gal'\n",
      " '19.4 gal' '22 gal' '24.6 gal' '13.5 gal' nan '16.9 gal' '18.8 gal'\n",
      " '27.6 gal' '21.5 gal' '15.6 gal' '18.5 gal' '26 gal' '12.4 gal'\n",
      " '19.2 gal' '18.6 gal' '14.9 gal' '23.2 gal' '24 gal' '16.4 gal'\n",
      " '13.7 gal' '19 gal' '14.5 gal' '31 gal' '24.1 gal' '18.1 gal' '18 gal'\n",
      " '21.7 gal' '23.8 gal' '15.3 gal' '34 gal' '21 gal' '19.5 gal' '16 gal'\n",
      " '28 gal' '26.4 gal' '27.7 gal' '36 gal' '35 gal' '20 gal' '21.6 gal'\n",
      " '15.1 gal' '21.1 gal' '12.8 gal' '11 gal' '22.2 gal' '16.1 gal'\n",
      " '17.2 gal' '19.8 gal' '20.5 gal' '17 gal' '9.3 gal' '25.1 gal' '25.4 gal'\n",
      " '25 gal' '13 gal' '11.1 gal' '21.9 gal' '23 gal' '11.9 gal' '14.2 gal'\n",
      " '14.3 gal' '16.5 gal' '11.4 gal' '17.8 gal' '17.1 gal' '--' '9.2 gal'\n",
      " '17.5 gal' '16.8 gal' '12.1 gal' '15.5 gal' '11.3 gal' '10.6 gal'\n",
      " '13.6 gal' '15 gal' '32 gal' '15.7 gal' '23.3 gal' '20.6 gal' '22.4 gal'\n",
      " '16.3 gal' '27 gal' '16.2 gal' '15.4 gal' '20.1 gal' '10.8 gal'\n",
      " '20.3 gal' '38 gal' '28.3 gal' '23.7 gal' '30 gal' '14.4 gal' '24.5 gal'\n",
      " '27.8 gal' '12.2 gal' '19.3 gal' '33.5 gal' '9 gal' '17.9 gal' '19.1 gal'\n",
      " '14.7 gal' '9.5 gal' '48 gal' '23.6 gal' '12 gal' '18.4 gal' '11.8 gal'\n",
      " '11.6 gal' '20.4 gal' '8.7 gal' '33 gal' '30.5 gal' '22.8 gal' '21.8 gal'\n",
      " '40 gal' '8.9 gal' '13.1 gal' '1.9 gal' '17.3 gal' '44 gal' '29 gal'\n",
      " '22.7 gal' '7 gal' '2.3 gal' '2.4 gal' '27.3 gal' '21.4 gal' '18.2 gal'\n",
      " '7.7 gal' '15.2 gal' '10 gal' '8.5 gal' '37 gal' '14.6 gal' '31.5 gal'\n",
      " '39 gal' '52 gal' '17.6 gal' '25.6 gal' '23.9 gal' '24.3 gal' '12.6 gal'\n",
      " '18.3 gal' '63.5 gal' '29.1 gal' '37.5 gal' '20.2 gal' '10.3 gal'\n",
      " '50 gal' '28.5 gal' '16.7 gal' '26.5 gal' '18.7 gal' '21.2 gal'\n",
      " '22.3 gal' '12.3 gal' '42 gal' '63 gal' '64 gal' '7.8 gal' '40.7 gal'\n",
      " '22.6 gal' '8 gal' '51 gal' '11.5 gal' '25.5 gal' '25.3 gal' '23.1 gal'\n",
      " '13.3 gal' '25.2 gal' '26.3 gal']\n",
      "['Gasoline' 'Diesel' nan 'Biodiesel' 'Flex Fuel Vehicle' 'Electric'\n",
      " 'Hybrid' 'Compressed Natural Gas' 'Propane']\n",
      "[nan False True]\n",
      "['66.5 in' '68 in' '58.1 in' '73 in' '66.3 in' '56.9 in' '64.9 in'\n",
      " '46.6 in' '56.5 in' '60.7 in' '66.2 in' '57.6 in' '55.1 in' '70.7 in'\n",
      " '60.9 in' '69.9 in' '69.3 in' '65 in' nan '64.1 in' '58.7 in' '58.4 in'\n",
      " '71 in' '70.8 in' '70.9 in' '73.6 in' '56.6 in' '65.4 in' '58.5 in'\n",
      " '73.9 in' '65.3 in' '55.7 in' '67.7 in' '64.5 in' '58.3 in' '57.7 in'\n",
      " '76.3 in' '66.1 in' '54.6 in' '74.4 in' '66 in' '64.8 in' '55.8 in'\n",
      " '69.4 in' '53.1 in' '72.6 in' '56.7 in' '67.1 in' '57.1 in' '77.4 in'\n",
      " '57.4 in' '65.7 in' '81.3 in' '70.6 in' '70.2 in' '69 in' '67 in'\n",
      " '77.6 in' '54.4 in' '75.5 in' '57 in' '72.3 in' '58.9 in' '67.4 in'\n",
      " '75.6 in' '66.9 in' '70.1 in' '77.5 in' '74 in' '78.2 in' '72.1 in'\n",
      " '81.2 in' '49.3 in' '67.9 in' '57.8 in' '79.3 in' '52.9 in' '67.3 in'\n",
      " '56.8 in' '56.2 in' '63.3 in' '56.3 in' '83.4 in' '68.9 in' '55.3 in'\n",
      " '82.4 in' '72.8 in' '66.8 in' '72.4 in' '63.9 in' '62.9 in' '55 in'\n",
      " '54.8 in' '58 in' '95.5 in' '65.2 in' '70.4 in' '69.5 in' '68.2 in'\n",
      " '54 in' '64.4 in' '76.7 in' '54.2 in' '68.7 in' '71.5 in' '54.7 in'\n",
      " '76 in' '53.9 in' '53.5 in' '55.9 in' '60 in' '71.3 in' '50.8 in'\n",
      " '74.3 in' '65.6 in' '57.9 in' '57.2 in' '68.3 in' '63.6 in' '59.6 in'\n",
      " '54.9 in' '68.5 in' '67.5 in' '68.4 in' '51.8 in' '76.9 in' '75.7 in'\n",
      " '51.2 in' '71.4 in' '48.5 in' '63.5 in' '63 in' '58.2 in' '57.3 in'\n",
      " '69.6 in' '78.8 in' '60.8 in' '78.1 in' '57.5 in' '63.4 in' '65.9 in'\n",
      " '58.8 in' '61.5 in' '67.8 in' '73.7 in' '--' '64.6 in' '59.4 in'\n",
      " '70.5 in' '78.3 in' '73.1 in' '58.6 in' '74.9 in' '68.8 in' '72.7 in'\n",
      " '59 in' '63.2 in' '69.1 in' '59.3 in' '54.3 in' '71.9 in' '91.7 in'\n",
      " '64.7 in' '74.2 in' '71.2 in' '61.9 in' '68.6 in' '92.8 in' '62.7 in'\n",
      " '71.7 in' '70 in' '70.3 in' '105.9 in' '64.2 in' '77.7 in' '61.6 in'\n",
      " '78 in' '53 in' '54.1 in' '107.7 in' '71.6 in' '77.2 in' '51.3 in'\n",
      " '67.6 in' '60.2 in' '80.2 in' '54.5 in' '74.5 in' '59.2 in' '69.8 in'\n",
      " '56.1 in' '61 in' '55.5 in' '59.7 in' '56 in' '66.6 in' '73.2 in'\n",
      " '69.7 in' '75 in' '71.1 in' '52.3 in' '55.4 in' '63.1 in' '73.4 in'\n",
      " '75.9 in' '84.3 in' '78.5 in' '75.8 in' '56.4 in' '78.4 in' '49.2 in'\n",
      " '65.1 in' '62.6 in' '76.8 in' '62.5 in' '60.6 in' '59.8 in' '61.7 in'\n",
      " '75.2 in' '52.6 in' '59.5 in' '55.6 in' '53.7 in' '72.5 in' '62.2 in'\n",
      " '49 in' '66.4 in' '47.8 in' '79.1 in' '76.2 in' '59.1 in' '53.6 in'\n",
      " '63.8 in' '53.8 in' '53.3 in' '52.8 in' '105.7 in' '77.1 in' '76.1 in'\n",
      " '50.7 in' '60.5 in' '81.4 in' '100.7 in' '52.4 in' '67.2 in' '48.8 in'\n",
      " '68.1 in' '76.4 in' '71.8 in' '55.2 in' '73.8 in' '84.6 in' '72.2 in'\n",
      " '50.9 in' '77.8 in' '50.4 in' '76.6 in' '72 in' '81.5 in' '77.9 in'\n",
      " '79.8 in' '48.7 in' '81 in' '61.3 in' '52 in' '83.6 in' '99.2 in'\n",
      " '84.1 in' '66.7 in' '84.8 in' '65.5 in' '45.9 in' '50.6 in' '96.3 in'\n",
      " '61.2 in' '81.6 in' '51 in' '77.3 in' '79.7 in' '60.1 in' '77 in'\n",
      " '74.1 in' '61.8 in' '82.2 in' '80.7 in' '101.3 in' '47.7 in' '110.2 in'\n",
      " '107.5 in' '80.9 in' '83.7 in' '82.9 in' '80.1 in' '82.8 in' '80.8 in'\n",
      " '80.5 in' '79.9 in' '62.8 in' '82 in' '99.1 in' '51.1 in' '79.5 in'\n",
      " '74.6 in' '62.1 in' '51.4 in' '50 in' '80 in' '80.4 in' '83.9 in'\n",
      " '81.1 in' '75.1 in' '60.4 in' '75.4 in' '51.5 in' '105 in' '59.9 in'\n",
      " '75.3 in' '108.6 in' '110.1 in' '73.5 in' '72.9 in' '79.2 in' '83.2 in'\n",
      " '63.7 in' '76.5 in' '78.7 in' '65.8 in' '62.4 in' '43.9 in' '79.6 in'\n",
      " '49.4 in' '101 in' '73.3 in' '87.3 in' '79.4 in' '85 in' '80.6 in'\n",
      " '80.3 in' '84.5 in' '109.4 in' '100.8 in' '61.4 in' '48.6 in' '46.5 in'\n",
      " '50.1 in' '47.3 in' '82.6 in' '47.2 in' '46.4 in' '64 in' '53.2 in'\n",
      " '84 in' '110.4 in' '106.8 in' '51.9 in' '49.1 in' '74.8 in' '51.6 in'\n",
      " '62 in' '50.2 in' '69.2 in' '44.7 in' '91 in' '93.9 in' '110.8 in'\n",
      " '105.5 in' '52.1 in' '97.9 in' '114.2 in' '111.3 in' '100.1 in' '47.6 in'\n",
      " '46.3 in' '108.4 in' '110.5 in' '46 in' '48.9 in' '94.3 in' '78.9 in'\n",
      " '52.2 in' '107.2 in' '49.9 in' '52.7 in' '110 in' '87 in' '90 in'\n",
      " '45.8 in' '60.3 in' '47 in' '88 in' '94.5 in' '82.1 in' '82.3 in'\n",
      " '48.1 in' '106 in' '74.7 in' '50.3 in' '48.4 in' '86.5 in' '47.5 in'\n",
      " '47.9 in' '51.7 in' '113.5 in' '96.5 in' '107.3 in' '108.7 in' '107 in'\n",
      " '110.9 in' '86.8 in' '49.7 in' '109.6 in' '47.1 in' '78.6 in' '117.6 in'\n",
      " '48.2 in' '109.1 in' '97.8 in' '108.5 in' '49.6 in' '49.8 in' '81.8 in'\n",
      " '52.5 in' '47.4 in' '46.9 in' '98.7 in' '83.8 in' '81.9 in' '81.7 in'\n",
      " '46.1 in' '46.7 in' '46.8 in' '48 in' '45.2 in' '44.3 in' '53.4 in'\n",
      " '49.5 in' '104 in' '108.2 in' '108.9 in' '45.6 in' '84.9 in' '103 in'\n",
      " '105.8 in' '108.8 in' '43.7 in' '44 in' '109.2 in' '103.6 in' '50.5 in'\n",
      " '48.3 in' '64.3 in' '79 in' '97.2 in' '82.7 in' '95.9 in' '93.1 in'\n",
      " '94.7 in' '102.7 in' '108 in' '61.1 in' '93.3 in' '96.2 in' '96.1 in'\n",
      " '100.3 in' '96.4 in' '45.3 in' '88.2 in' '110.6 in' '43.5 in' '82.5 in'\n",
      " '44.9 in' '93 in' '111.2 in']\n",
      "['Black' 'Black (Ebony)' 'None' ... 'White (Jet Blk/kalahari Cloth)'\n",
      " 'Red (Jet Blk/kalahari Perf Leather)' 'White (Medium Pewter Custom)']\n",
      "[nan False True]\n",
      "[ True False]\n",
      "['166.6 in' '181 in' '180.9 in' '195.1 in' '188.9 in' '183.5 in'\n",
      " '172.1 in' '157.5 in' '182.5 in' '168.3 in' '179.1 in' '179.9 in'\n",
      " '193.8 in' '184.8 in' '204.3 in' '203.7 in' '189.8 in' '175.1 in' nan\n",
      " '166.9 in' '181.1 in' '192.3 in' '191.7 in' '187.8 in' '192.1 in'\n",
      " '173.4 in' '201.2 in' '188.4 in' '182.3 in' '183.1 in' '200.8 in'\n",
      " '230 in' '183.3 in' '192.5 in' '191.1 in' '198.3 in' '210 in' '189.9 in'\n",
      " '192.6 in' '203.9 in' '176.2 in' '174.7 in' '203.6 in' '224.4 in'\n",
      " '188.3 in' '167.6 in' '183.9 in' '175.3 in' '173 in' '184.9 in'\n",
      " '192.8 in' '182 in' '175.6 in' '189.2 in' '174.5 in' '196.9 in'\n",
      " '191.5 in' '197.6 in' '183.7 in' '250 in' '224.9 in' '198.5 in' '204 in'\n",
      " '198.4 in' '224 in' '199.4 in' '191.4 in' '187.4 in' '190.3 in'\n",
      " '232.9 in' '231.7 in' '197.5 in' '196.8 in' '201.3 in' '190.8 in'\n",
      " '186.3 in' '178.2 in' '191 in' '229 in' '193.1 in' '239.5 in' '184.4 in'\n",
      " '190.9 in' '212 in' '179.4 in' '202.8 in' '192 in' '191.9 in' '203.8 in'\n",
      " '180.7 in' '183 in' '179.3 in' '205.3 in' '184.5 in' '180.6 in'\n",
      " '172.4 in' '178.3 in' '175 in' '195.6 in' '216.7 in' '187.6 in'\n",
      " '173.8 in' '184.1 in' '200.6 in' '200 in' '192.9 in' '175.4 in'\n",
      " '175.5 in' '194.5 in' '182.2 in' '188.2 in' '239.6 in' '182.6 in'\n",
      " '186.1 in' '182.9 in' '212.4 in' '192.4 in' '190.7 in' '200.4 in'\n",
      " '182.1 in' '177 in' '212.3 in' '185.1 in' '185.2 in' '189.5 in'\n",
      " '224.2 in' '190.6 in' '186.7 in' '187 in' '179.5 in' '193 in' '181.5 in'\n",
      " '197 in' '224.3 in' '188 in' '196.2 in' '225.8 in' '174.8 in' '189.6 in'\n",
      " '182.8 in' '173.9 in' '188.7 in' '172.2 in' '176.9 in' '209 in'\n",
      " '206.5 in' '212.7 in' '183.6 in' '185.5 in' '205 in' '197.9 in'\n",
      " '195.5 in' '188.8 in' '175.2 in' '196.1 in' '191.3 in' '160.1 in'\n",
      " '176.4 in' '178.1 in' '177.3 in' '201.4 in' '202.9 in' '194.4 in'\n",
      " '181.8 in' '193.9 in' '209.3 in' '162.8 in' '202.5 in' '159.6 in'\n",
      " '163 in' '165.2 in' '231.9 in' '194.6 in' '178.7 in' '183.4 in'\n",
      " '197.2 in' '185.7 in' '185 in' '171.5 in' '168 in' '182.7 in' '191.8 in'\n",
      " '190.4 in' '185.6 in' '162.2 in' '171.6 in' '176.6 in' '202 in'\n",
      " '229.5 in' '193.4 in' '160 in' '229.9 in' '--' '185.3 in' '149.4 in'\n",
      " '189 in' '178.9 in' '155.5 in' '248.4 in' '203.2 in' '176.8 in'\n",
      " '222.9 in' '175.8 in' '180 in' '197.1 in' '189.1 in' '202.1 in'\n",
      " '195.7 in' '169.3 in' '229.8 in' '169.1 in' '211.9 in' '181.9 in'\n",
      " '178.5 in' '188.5 in' '201 in' '187.2 in' '200.9 in' '186.8 in'\n",
      " '191.6 in' '152.8 in' '195.8 in' '171.7 in' '190.2 in' '193.3 in'\n",
      " '179.2 in' '187.1 in' '176.7 in' '206.8 in' '188.1 in' '213.7 in'\n",
      " '184.6 in' '161.6 in' '207.6 in' '172 in' '194.2 in' '201.9 in'\n",
      " '173.6 in' '207.7 in' '180.3 in' '166.8 in' '203.1 in' '263.9 in'\n",
      " '197.7 in' '180.1 in' '200.2 in' '177.9 in' '187.9 in' '176 in'\n",
      " '194.1 in' '189.3 in' '193.6 in' '203 in' '179.6 in' '174.3 in'\n",
      " '186.4 in' '154.1 in' '232 in' '200.5 in' '173.5 in' '178.4 in'\n",
      " '171.9 in' '172.6 in' '185.9 in' '199.6 in' '228.9 in' '243.7 in'\n",
      " '198.6 in' '192.2 in' '180.2 in' '168.8 in' '174.9 in' '190 in'\n",
      " '174.4 in' '206.6 in' '189.7 in' '179.7 in' '218 in' '193.2 in'\n",
      " '201.6 in' '169.4 in' '202.4 in' '238.8 in' '145.6 in' '201.7 in'\n",
      " '186.9 in' '195.4 in' '206.9 in' '194.9 in' '207.3 in' '210.7 in'\n",
      " '244.1 in' '260.8 in' '205.8 in' '202.6 in' '224.5 in' '241.8 in'\n",
      " '174.2 in' '200.1 in' '198 in' '208.9 in' '193.5 in' '184.3 in'\n",
      " '197.3 in' '175.9 in' '194 in' '197.4 in' '174.6 in' '192.7 in'\n",
      " '172.8 in' '184.2 in' '248.6 in' '222.4 in' '191.2 in' '167.2 in'\n",
      " '164 in' '208.1 in' '168.4 in' '204.1 in' '207.4 in' '199.8 in'\n",
      " '180.5 in' '202.2 in' '177.6 in' '161.1 in' '170.1 in' '169.9 in'\n",
      " '173.2 in' '157.4 in' '196.5 in' '190.5 in' '226.4 in' '177.8 in'\n",
      " '177.4 in' '221.9 in' '198.8 in' '167.3 in' '204.9 in' '186.2 in'\n",
      " '163.8 in' '208.3 in' '184.7 in' '235.8 in' '166.1 in' '202.3 in'\n",
      " '196.3 in' '165 in' '183.8 in' '289.8 in' '162 in' '168.7 in' '179 in'\n",
      " '205.6 in' '159 in' '161.3 in' '186.5 in' '159.1 in' '159.3 in'\n",
      " '221.3 in' '156.7 in' '254.4 in' '198.9 in' '170.9 in' '164.5 in'\n",
      " '139.6 in' '235.5 in' '222.3 in' '200.7 in' '171.3 in' '194.3 in'\n",
      " '194.7 in' '203.3 in' '187.3 in' '196.4 in' '199.9 in' '167 in'\n",
      " '199.1 in' '171 in' '193.7 in' '181.3 in' '196.6 in' '157.3 in'\n",
      " '214.7 in' '195 in' '224.1 in' '237.4 in' '199.2 in' '205.5 in'\n",
      " '187.5 in' '201.8 in' '266.2 in' '207.2 in' '176.5 in' '237.6 in'\n",
      " '196.7 in' '204.7 in' '174 in' '215 in' '230.6 in' '161.8 in' '250.1 in'\n",
      " '237.9 in' '169.5 in' '169.8 in' '199.3 in' '195.3 in' '166.7 in'\n",
      " '219.9 in' '200.3 in' '230.2 in' '179.8 in' '168.5 in' '227.7 in'\n",
      " '218.9 in' '243.2 in' '186 in' '170.3 in' '196 in' '224.7 in' '177.1 in'\n",
      " '232.5 in' '178.8 in' '166 in' '263 in' '164.6 in' '164.3 in' '106.1 in'\n",
      " '184 in' '171.2 in' '215.4 in' '158.7 in' '170.5 in' '225.5 in'\n",
      " '246.8 in' '161.5 in' '205.1 in' '210.8 in' '195.9 in' '246.2 in'\n",
      " '190.1 in' '160.5 in' '162.4 in' '231.8 in' '229.7 in' '236.7 in'\n",
      " '186.6 in' '146.2 in' '253.3 in' '180.4 in' '207.1 in' '266.7 in'\n",
      " '247.5 in' '178.6 in' '262 in' '261.9 in' '228.7 in' '254.8 in'\n",
      " '217.8 in' '237.3 in' '172.5 in' '225 in' '240.2 in' '232.4 in' '261 in'\n",
      " '249.7 in' '239.9 in' '157.8 in' '159.7 in' '144.7 in' '218.3 in'\n",
      " '230.3 in' '226.7 in' '227.6 in' '144.4 in' '227 in' '240.6 in' '222 in'\n",
      " '150.9 in' '208.4 in' '259.1 in' '195.2 in' '176.3 in' '158.3 in'\n",
      " '167.5 in' '163.7 in' '170.7 in' '194.8 in' '164.9 in' '224.6 in'\n",
      " '229.4 in' '163.1 in' '182.4 in' '237.2 in' '218.8 in' '218.5 in'\n",
      " '228.5 in' '230.1 in' '248.3 in' '236.4 in' '211.2 in' '258.7 in'\n",
      " '210.2 in' '208.7 in' '219.5 in' '159.8 in' '205.7 in' '154.7 in'\n",
      " '246.6 in' '202.7 in' '213.1 in' '226.9 in' '266.1 in' '181.2 in'\n",
      " '258.4 in' '213.2 in' '151.9 in' '166.5 in' '150.6 in' '154.3 in'\n",
      " '170.4 in' '161.7 in' '168.2 in' '171.4 in' '248.8 in' '221.6 in'\n",
      " '219.4 in' '212.6 in' '205.9 in' '249 in' '225.9 in' '249.9 in'\n",
      " '189.4 in' '177.2 in' '171.1 in' '149 in' '259.3 in' '120.1 in'\n",
      " '181.6 in' '231 in' '244 in' '247.6 in' '250.3 in' '177.5 in' '160.4 in'\n",
      " '158 in' '198.1 in' '177.7 in' '164.8 in' '221.7 in' '143.9 in'\n",
      " '226.2 in' '236.2 in' '223.3 in' '231.2 in' '247.4 in' '168.9 in'\n",
      " '173.7 in' '250.9 in' '236 in' '229.3 in' '206.2 in' '155.4 in'\n",
      " '161.4 in' '248 in' '150.1 in' '206 in' '165.9 in' '264.2 in' '208.5 in'\n",
      " '220.9 in' '227.2 in' '178 in' '208.6 in' '207.9 in' '172.9 in' '169 in'\n",
      " '220.8 in' '219.3 in' '163.3 in' '183.2 in' '165.4 in' '201.1 in'\n",
      " '165.8 in' '237 in' '154.9 in' '245.8 in' '162.9 in' '228.2 in'\n",
      " '205.2 in' '180.8 in' '228.1 in' '164.7 in' '243.4 in' '169.6 in'\n",
      " '242.8 in' '227.9 in' '250.5 in' '160.7 in' '167.7 in' '252.7 in'\n",
      " '143.1 in' '173.1 in' '158.5 in' '203.4 in' '206.1 in' '181.7 in'\n",
      " '233.3 in' '215.8 in' '211.4 in' '161.9 in' '273.2 in' '274.1 in'\n",
      " '152.5 in' '233.5 in' '207.8 in' '207 in' '238.2 in' '290 in' '188.6 in'\n",
      " '248.9 in' '174.1 in' '225.7 in' '217 in' '155.8 in' '247.8 in'\n",
      " '148.8 in' '223.8 in' '164.2 in' '204.4 in' '259.4 in' '231.4 in'\n",
      " '167.8 in' '226 in' '220.3 in' '152.7 in' '240.5 in' '282.3 in'\n",
      " '239.8 in' '225.3 in' '270.3 in' '206.7 in' '155 in' '286.5 in'\n",
      " '241.1 in' '262.4 in' '263.6 in' '271.5 in' '226.5 in' '234.3 in'\n",
      " '185.4 in' '225.2 in' '148 in' '269.5 in' '167.4 in' '151.1 in'\n",
      " '165.3 in' '159.4 in' '217.5 in' '211 in' '214.1 in' '187.7 in'\n",
      " '220.6 in' '147.7 in' '265.2 in' '249.2 in' '185.8 in' '142.8 in'\n",
      " '225.1 in' '172.3 in' '201.5 in' '249.5 in' '215.1 in' '215.3 in'\n",
      " '226.6 in' '230.7 in' '274.3 in' '167.1 in' '289.2 in' '247.2 in'\n",
      " '106.3 in' '229.6 in' '258.3 in' '176.1 in' '168.1 in' '227.4 in'\n",
      " '261.1 in' '153.5 in' '230.4 in' '235.3 in' '155.3 in' '172.7 in'\n",
      " '209.7 in' '220 in' '227.5 in' '207.5 in' '209.1 in' '211.5 in'\n",
      " '211.8 in' '169.7 in' '166.2 in' '274.2 in' '147 in' '153 in' '245.6 in'\n",
      " '222.1 in' '163.2 in' '256.5 in' '157.1 in' '208 in' '266 in' '225.6 in'\n",
      " '209.8 in' '221.4 in' '199 in' '204.6 in' '157 in' '151.8 in' '203.5 in'\n",
      " '157.2 in' '222.2 in' '248.7 in' '267.2 in' '163.5 in' '250.4 in'\n",
      " '206.4 in' '219 in' '198.2 in' '211.1 in' '163.4 in' '158.1 in'\n",
      " '258.5 in' '220.1 in' '156.1 in' '246.5 in' '239 in' '256.2 in'\n",
      " '247.9 in' '239.7 in' '232.1 in' '162.6 in' '261.8 in' '263.4 in'\n",
      " '246.7 in' '250.6 in' '214.8 in' '204.8 in' '152.6 in' '234 in'\n",
      " '149.5 in' '247.7 in' '243.9 in' '242.7 in' '256.1 in' '197.8 in'\n",
      " '212.2 in' '146.8 in' '205.4 in' '165.7 in' '244.4 in' '243.6 in'\n",
      " '165.6 in' '251.9 in' '220.2 in' '216 in' '167.9 in' '170.2 in'\n",
      " '155.9 in' '213.3 in' '232.2 in' '247 in' '157.9 in' '175.7 in'\n",
      " '217.7 in' '165.1 in' '154 in' '170 in' '274.5 in' '171.8 in' '152 in'\n",
      " '164.4 in' '168.6 in' '230.5 in' '244.2 in' '219.1 in' '206.3 in'\n",
      " '284.8 in' '162.1 in' '241.4 in' '221 in' '249.4 in' '212.8 in'\n",
      " '155.7 in' '214.2 in' '204.2 in' '263.2 in' '263.5 in' '285.9 in'\n",
      " '244.3 in' '198.7 in' '248.5 in' '241.2 in' '238.9 in' '254 in'\n",
      " '241.3 in' '199.7 in' '213.4 in' '210.6 in' '144 in' '255.1 in' '156 in'\n",
      " '234.5 in' '257.6 in' '218.7 in' '155.1 in' '166.3 in' '148.5 in'\n",
      " '156.4 in' '153.1 in' '151.6 in' '160.2 in' '213 in' '254.3 in'\n",
      " '109.3 in' '147.2 in' '287.2 in' '254.1 in' '246.9 in' '214 in'\n",
      " '218.2 in' '215.7 in' '223 in' '142 in' '294.1 in' '231.3 in' '160.9 in'\n",
      " '159.5 in' '235.1 in']\n",
      "['2019-04-06' '2020-02-15' '2017-04-25' ... '2016-11-22' '2017-06-19'\n",
      " '2015-10-20']\n"
     ]
    },
    {
     "name": "stdout",
     "output_type": "stream",
     "text": [
      "['YELLOW' 'BLACK' 'UNKNOWN' 'GRAY' 'SILVER' 'WHITE' 'RED' 'BLUE' 'ORANGE'\n",
      " 'BROWN' 'GOLD' 'TEAL' 'GREEN' 'PURPLE' 'PINK']\n",
      "['Jeep' 'Land Rover' 'Subaru' 'Mazda' 'Alfa Romeo' 'BMW' 'Hyundai'\n",
      " 'Chevrolet' 'Lexus' 'Cadillac' 'Chrysler' 'Dodge' 'Mercedes-Benz'\n",
      " 'Nissan' 'Honda' 'Kia' 'Ford' 'Lincoln' 'Audi' 'Jaguar' 'Volkswagen'\n",
      " 'RAM' 'Porsche' 'Toyota' 'INFINITI' 'GMC' 'Acura' 'Maserati' 'FIAT'\n",
      " 'Volvo' 'Mitsubishi' 'Buick' 'Mercury' 'Scion' 'Saab' 'MINI' 'Ferrari'\n",
      " 'Genesis' 'Saturn' 'Bentley' 'Suzuki' 'Tesla' 'Fisker' 'Pontiac'\n",
      " 'Lamborghini' 'smart' 'Hummer' 'Rolls-Royce' 'Lotus' 'Spyker' 'McLaren'\n",
      " 'Aston Martin' 'Kaiser' 'Oldsmobile' 'Maybach' 'Freightliner' 'Karma'\n",
      " 'Isuzu' 'Plymouth' 'Shelby' 'Triumph' 'MG' 'Pagani' 'Datsun' 'Studebaker'\n",
      " 'AM General' 'Austin-Healey' 'AMC' 'Hudson' 'Willys' 'Pininfarina'\n",
      " 'Sunbeam' 'Geo' 'Opel' 'SRT' 'Edsel' 'VPG' 'Eagle' 'Bugatti' 'Daewoo'\n",
      " 'Hillman' 'Austin' 'Morris' 'Packard' 'Humber' 'DeTomaso'\n",
      " 'International Harvester' 'Ariel' 'DeSoto' 'Allard' 'Bricklin' 'DeLorean'\n",
      " 'Nash' 'Clenet' 'Mobility Ventures' 'Franklin' 'Jensen' 'Saleen'\n",
      " 'Koenigsegg' 'Rover']\n",
      "['5 seats' '7 seats' '2 seats' '4 seats' '8 seats' nan '6 seats' '9 seats'\n",
      " '3 seats' '--' '15 seats' '12 seats' '10 seats']\n",
      "['Renegade' 'Discovery Sport' 'WRX STI' ... 'Nexo' 'TR3' 'C/K 1000 Series']\n",
      "['177 hp @ 5,750 RPM' '246 hp @ 5,500 RPM' '305 hp @ 6,000 RPM' ...\n",
      " '69 hp @ 5,200 RPM' '110 hp @ 4,700 RPM' '116 hp @ 5,000 RPM']\n",
      "[nan False True]\n",
      "['200 lb-ft @ 1,750 RPM' '269 lb-ft @ 1,400 RPM' '290 lb-ft @ 4,000 RPM'\n",
      " ... '400 lb-ft @ 2,200 RPM' '228 lb-ft @ 4,300 RPM'\n",
      " '130 lb-ft @ 3,000 RPM']\n",
      "['A' 'M' 'CVT' nan 'Dual Clutch']\n",
      "['FWD' 'AWD' 'RWD' '4WD' nan '4X2']\n",
      "['Front-Wheel Drive' 'All-Wheel Drive' 'Rear-Wheel Drive'\n",
      " 'Four-Wheel Drive' nan '4X2']\n",
      "['79.6 in' '85.6 in' '78.9 in' '87.4 in' '84.4 in' '70.7 in' '82.7 in'\n",
      " '73.5 in' '80 in' '69.6 in' '83.3 in' '70.9 in' '73 in' '81.5 in'\n",
      " '78.6 in' '78.5 in' '84.8 in' '71.4 in' nan '83.5 in' '73.6 in' '72.5 in'\n",
      " '82.8 in' '85.5 in' '73.8 in' '72.6 in' '75 in' '70.8 in' '74.6 in'\n",
      " '82.5 in' '73.2 in' '90.2 in' '93.8 in' '81.3 in' '71.8 in' '84.3 in'\n",
      " '80.5 in' '72.8 in' '78.1 in' '90.4 in' '72.4 in' '74.7 in' '69.9 in'\n",
      " '70.5 in' '82.2 in' '73.7 in' '71.2 in' '82.9 in' '105.9 in' '83.9 in'\n",
      " '77.2 in' '77.5 in' '76.7 in' '74.4 in' '75.2 in' '82.1 in' '81.9 in'\n",
      " '81.2 in' '86.5 in' '85.4 in' '85.2 in' '79.4 in' '79.3 in' '79.9 in'\n",
      " '69 in' '88.5 in' '86.4 in' '72 in' '83.2 in' '82.6 in' '84 in' '79.5 in'\n",
      " '69.8 in' '72.3 in' '79.8 in' '67.9 in' '73.4 in' '95.7 in' '69.2 in'\n",
      " '83.7 in' '72.9 in' '81.1 in' '71.5 in' '71.7 in' '96 in' '76.3 in'\n",
      " '72.2 in' '82.3 in' '70.4 in' '80.3 in' '78.8 in' '75.5 in' '70.1 in'\n",
      " '85 in' '79 in' '77.7 in' '68.9 in' '71.1 in' '77 in' '68 in' '87.3 in'\n",
      " '74.3 in' '83 in' '80.8 in' '85.8 in' '78.2 in' '67.8 in' '81.8 in'\n",
      " '89.3 in' '91.5 in' '96.8 in' '68.5 in' '87.5 in' '74 in' '70 in'\n",
      " '69.3 in' '70.3 in' '74.9 in' '73.3 in' '68.3 in' '--' '65.6 in'\n",
      " '73.1 in' '66.7 in' '80.1 in' '79.1 in' '74.1 in' '69.5 in' '85.7 in'\n",
      " '69.4 in' '77.1 in' '77.4 in' '81 in' '74.8 in' '84.2 in' '97.6 in'\n",
      " '71.6 in' '84.1 in' '84.6 in' '77.8 in' '71 in' '78.4 in' '77.3 in'\n",
      " '71.9 in' '86.7 in' '69.7 in' '69.1 in' '78 in' '74.2 in' '97.4 in'\n",
      " '75.9 in' '91.8 in' '75.8 in' '71.3 in' '72.7 in' '75.7 in' '84.9 in'\n",
      " '78.3 in' '87.1 in' '67.1 in' '66.9 in' '80.2 in' '86 in' '88.3 in'\n",
      " '76 in' '82.4 in' '80.6 in' '83.1 in' '80.9 in' '96.5 in' '82 in'\n",
      " '83.4 in' '104.9 in' '75.6 in' '86.1 in' '70.6 in' '83.8 in' '76.2 in'\n",
      " '66.8 in' '75.4 in' '66.2 in' '72.1 in' '93.4 in' '70.2 in' '92.3 in'\n",
      " '67.2 in' '66.5 in' '68.1 in' '95.5 in' '79.2 in' '81.7 in' '67.7 in'\n",
      " '97 in' '76.8 in' '81.4 in' '76.1 in' '67.5 in' '73.9 in' '86.2 in'\n",
      " '88.8 in' '67 in' '89.9 in' '65.7 in' '98.1 in' '88 in' '76.9 in'\n",
      " '80.7 in' '67.6 in' '74.5 in' '76.4 in' '79.7 in' '68.7 in' '86.6 in'\n",
      " '68.6 in' '99.6 in' '62.9 in' '87.7 in' '99.5 in' '80.4 in' '78.7 in'\n",
      " '84.5 in' '98.6 in' '77.6 in' '66.1 in' '76.6 in' '65.5 in' '68.8 in'\n",
      " '98 in' '67.3 in' '65.4 in' '85.1 in' '77.9 in' '86.9 in' '75.1 in'\n",
      " '85.9 in' '89.5 in' '63.5 in' '75.3 in' '102.8 in' '68.2 in' '64.1 in'\n",
      " '94.9 in' '62.8 in' '66 in' '66.6 in' '65 in' '89.2 in' '76.5 in'\n",
      " '92.2 in' '61.4 in' '93.9 in' '66.3 in' '86.3 in' '66.4 in' '87.2 in'\n",
      " '64.6 in' '67.4 in' '95.9 in' '64 in' '89.1 in' '96.1 in' '68.4 in'\n",
      " '42.5 in' '65.9 in' '87.6 in' '109 in' '57 in' '101 in' '81.6 in'\n",
      " '96.7 in' '88.1 in' '63.8 in' '64.8 in' '63.7 in' '64.2 in' '106 in'\n",
      " '65.3 in' '93.5 in' '94.3 in' '63 in' '62 in' '65.2 in' '90.7 in'\n",
      " '62.6 in' '55 in' '65.1 in']\n"
     ]
    }
   ],
   "source": [
    "#finding all unique values per column to see what values we need to clean\n",
    "columns_that_need_cleaning = ['engine_type','exterior_color','frame_damaged','franchise_dealer','franchise_make','fuel_tank_volume','fuel_type','has_accidents','height','interior_color','isCab','is_new','length','listed_date','listing_color','make_name','maximum_seating','model_name','power','salvage','torque','transmission','wheel_system','wheel_system_display','width']\n",
    "for col in columns_that_need_cleaning:\n",
    "        print(df_cln_2[col].unique())"
   ]
  },
  {
   "cell_type": "code",
   "execution_count": 8,
   "metadata": {},
   "outputs": [
    {
     "name": "stdout",
     "output_type": "stream",
     "text": [
      "38\n"
     ]
    }
   ],
   "source": [
    "#observing if 'engine_cylinders','engine_type' is the same data\n",
    "if df_cln_2['engine_cylinders'].equals(df_cln_2['engine_type']) == True:\n",
    "    df_cln_2 = df_cln_2.drop(columns='engine_cylinders')\n",
    "    print(df_cln_2.shape[1])"
   ]
  },
  {
   "cell_type": "markdown",
   "metadata": {},
   "source": [
    "After doing a quick profiling on some our identified columsn, we can see that both engine_cylinders and engine_type are the same. Additionally, we also found that the prefixes and suffixes attached to them are descriptive of it and thus not a continuous value. \n",
    "\n",
    "Regarding fuel_tank_volume and maximum_seating, we can see that there appears to be a pattern in the suffixes, \"gal\" and \"seats\" accordingly. We will now remove them and then convert all values to numeric."
   ]
  },
  {
   "cell_type": "code",
   "execution_count": 9,
   "metadata": {},
   "outputs": [
    {
     "name": "stdout",
     "output_type": "stream",
     "text": [
      "['12.7 gal' '17.7 gal' '15.9 gal' '23.5 gal' '16.6 gal' '13.2 gal'\n",
      " '10.5 gal' '15.8 gal' '22.5 gal' '14.8 gal' '14 gal' '17.4 gal'\n",
      " '19.4 gal' '22 gal' '24.6 gal' '13.5 gal' nan '16.9 gal' '18.8 gal'\n",
      " '27.6 gal' '21.5 gal' '15.6 gal' '18.5 gal' '26 gal' '12.4 gal'\n",
      " '19.2 gal' '18.6 gal' '14.9 gal' '23.2 gal' '24 gal' '16.4 gal'\n",
      " '13.7 gal' '19 gal' '14.5 gal' '31 gal' '24.1 gal' '18.1 gal' '18 gal'\n",
      " '21.7 gal' '23.8 gal' '15.3 gal' '34 gal' '21 gal' '19.5 gal' '16 gal'\n",
      " '28 gal' '26.4 gal' '27.7 gal' '36 gal' '35 gal' '20 gal' '21.6 gal'\n",
      " '15.1 gal' '21.1 gal' '12.8 gal' '11 gal' '22.2 gal' '16.1 gal'\n",
      " '17.2 gal' '19.8 gal' '20.5 gal' '17 gal' '9.3 gal' '25.1 gal' '25.4 gal'\n",
      " '25 gal' '13 gal' '11.1 gal' '21.9 gal' '23 gal' '11.9 gal' '14.2 gal'\n",
      " '14.3 gal' '16.5 gal' '11.4 gal' '17.8 gal' '17.1 gal' '--' '9.2 gal'\n",
      " '17.5 gal' '16.8 gal' '12.1 gal' '15.5 gal' '11.3 gal' '10.6 gal'\n",
      " '13.6 gal' '15 gal' '32 gal' '15.7 gal' '23.3 gal' '20.6 gal' '22.4 gal'\n",
      " '16.3 gal' '27 gal' '16.2 gal' '15.4 gal' '20.1 gal' '10.8 gal'\n",
      " '20.3 gal' '38 gal' '28.3 gal' '23.7 gal' '30 gal' '14.4 gal' '24.5 gal'\n",
      " '27.8 gal' '12.2 gal' '19.3 gal' '33.5 gal' '9 gal' '17.9 gal' '19.1 gal'\n",
      " '14.7 gal' '9.5 gal' '48 gal' '23.6 gal' '12 gal' '18.4 gal' '11.8 gal'\n",
      " '11.6 gal' '20.4 gal' '8.7 gal' '33 gal' '30.5 gal' '22.8 gal' '21.8 gal'\n",
      " '40 gal' '8.9 gal' '13.1 gal' '1.9 gal' '17.3 gal' '44 gal' '29 gal'\n",
      " '22.7 gal' '7 gal' '2.3 gal' '2.4 gal' '27.3 gal' '21.4 gal' '18.2 gal'\n",
      " '7.7 gal' '15.2 gal' '10 gal' '8.5 gal' '37 gal' '14.6 gal' '31.5 gal'\n",
      " '39 gal' '52 gal' '17.6 gal' '25.6 gal' '23.9 gal' '24.3 gal' '12.6 gal'\n",
      " '18.3 gal' '63.5 gal' '29.1 gal' '37.5 gal' '20.2 gal' '10.3 gal'\n",
      " '50 gal' '28.5 gal' '16.7 gal' '26.5 gal' '18.7 gal' '21.2 gal'\n",
      " '22.3 gal' '12.3 gal' '42 gal' '63 gal' '64 gal' '7.8 gal' '40.7 gal'\n",
      " '22.6 gal' '8 gal' '51 gal' '11.5 gal' '25.5 gal' '25.3 gal' '23.1 gal'\n",
      " '13.3 gal' '25.2 gal' '26.3 gal']\n",
      "['66.5 in' '68 in' '58.1 in' '73 in' '66.3 in' '56.9 in' '64.9 in'\n",
      " '46.6 in' '56.5 in' '60.7 in' '66.2 in' '57.6 in' '55.1 in' '70.7 in'\n",
      " '60.9 in' '69.9 in' '69.3 in' '65 in' nan '64.1 in' '58.7 in' '58.4 in'\n",
      " '71 in' '70.8 in' '70.9 in' '73.6 in' '56.6 in' '65.4 in' '58.5 in'\n",
      " '73.9 in' '65.3 in' '55.7 in' '67.7 in' '64.5 in' '58.3 in' '57.7 in'\n",
      " '76.3 in' '66.1 in' '54.6 in' '74.4 in' '66 in' '64.8 in' '55.8 in'\n",
      " '69.4 in' '53.1 in' '72.6 in' '56.7 in' '67.1 in' '57.1 in' '77.4 in'\n",
      " '57.4 in' '65.7 in' '81.3 in' '70.6 in' '70.2 in' '69 in' '67 in'\n",
      " '77.6 in' '54.4 in' '75.5 in' '57 in' '72.3 in' '58.9 in' '67.4 in'\n",
      " '75.6 in' '66.9 in' '70.1 in' '77.5 in' '74 in' '78.2 in' '72.1 in'\n",
      " '81.2 in' '49.3 in' '67.9 in' '57.8 in' '79.3 in' '52.9 in' '67.3 in'\n",
      " '56.8 in' '56.2 in' '63.3 in' '56.3 in' '83.4 in' '68.9 in' '55.3 in'\n",
      " '82.4 in' '72.8 in' '66.8 in' '72.4 in' '63.9 in' '62.9 in' '55 in'\n",
      " '54.8 in' '58 in' '95.5 in' '65.2 in' '70.4 in' '69.5 in' '68.2 in'\n",
      " '54 in' '64.4 in' '76.7 in' '54.2 in' '68.7 in' '71.5 in' '54.7 in'\n",
      " '76 in' '53.9 in' '53.5 in' '55.9 in' '60 in' '71.3 in' '50.8 in'\n",
      " '74.3 in' '65.6 in' '57.9 in' '57.2 in' '68.3 in' '63.6 in' '59.6 in'\n",
      " '54.9 in' '68.5 in' '67.5 in' '68.4 in' '51.8 in' '76.9 in' '75.7 in'\n",
      " '51.2 in' '71.4 in' '48.5 in' '63.5 in' '63 in' '58.2 in' '57.3 in'\n",
      " '69.6 in' '78.8 in' '60.8 in' '78.1 in' '57.5 in' '63.4 in' '65.9 in'\n",
      " '58.8 in' '61.5 in' '67.8 in' '73.7 in' '--' '64.6 in' '59.4 in'\n",
      " '70.5 in' '78.3 in' '73.1 in' '58.6 in' '74.9 in' '68.8 in' '72.7 in'\n",
      " '59 in' '63.2 in' '69.1 in' '59.3 in' '54.3 in' '71.9 in' '91.7 in'\n",
      " '64.7 in' '74.2 in' '71.2 in' '61.9 in' '68.6 in' '92.8 in' '62.7 in'\n",
      " '71.7 in' '70 in' '70.3 in' '105.9 in' '64.2 in' '77.7 in' '61.6 in'\n",
      " '78 in' '53 in' '54.1 in' '107.7 in' '71.6 in' '77.2 in' '51.3 in'\n",
      " '67.6 in' '60.2 in' '80.2 in' '54.5 in' '74.5 in' '59.2 in' '69.8 in'\n",
      " '56.1 in' '61 in' '55.5 in' '59.7 in' '56 in' '66.6 in' '73.2 in'\n",
      " '69.7 in' '75 in' '71.1 in' '52.3 in' '55.4 in' '63.1 in' '73.4 in'\n",
      " '75.9 in' '84.3 in' '78.5 in' '75.8 in' '56.4 in' '78.4 in' '49.2 in'\n",
      " '65.1 in' '62.6 in' '76.8 in' '62.5 in' '60.6 in' '59.8 in' '61.7 in'\n",
      " '75.2 in' '52.6 in' '59.5 in' '55.6 in' '53.7 in' '72.5 in' '62.2 in'\n",
      " '49 in' '66.4 in' '47.8 in' '79.1 in' '76.2 in' '59.1 in' '53.6 in'\n",
      " '63.8 in' '53.8 in' '53.3 in' '52.8 in' '105.7 in' '77.1 in' '76.1 in'\n",
      " '50.7 in' '60.5 in' '81.4 in' '100.7 in' '52.4 in' '67.2 in' '48.8 in'\n",
      " '68.1 in' '76.4 in' '71.8 in' '55.2 in' '73.8 in' '84.6 in' '72.2 in'\n",
      " '50.9 in' '77.8 in' '50.4 in' '76.6 in' '72 in' '81.5 in' '77.9 in'\n",
      " '79.8 in' '48.7 in' '81 in' '61.3 in' '52 in' '83.6 in' '99.2 in'\n",
      " '84.1 in' '66.7 in' '84.8 in' '65.5 in' '45.9 in' '50.6 in' '96.3 in'\n",
      " '61.2 in' '81.6 in' '51 in' '77.3 in' '79.7 in' '60.1 in' '77 in'\n",
      " '74.1 in' '61.8 in' '82.2 in' '80.7 in' '101.3 in' '47.7 in' '110.2 in'\n",
      " '107.5 in' '80.9 in' '83.7 in' '82.9 in' '80.1 in' '82.8 in' '80.8 in'\n",
      " '80.5 in' '79.9 in' '62.8 in' '82 in' '99.1 in' '51.1 in' '79.5 in'\n",
      " '74.6 in' '62.1 in' '51.4 in' '50 in' '80 in' '80.4 in' '83.9 in'\n",
      " '81.1 in' '75.1 in' '60.4 in' '75.4 in' '51.5 in' '105 in' '59.9 in'\n",
      " '75.3 in' '108.6 in' '110.1 in' '73.5 in' '72.9 in' '79.2 in' '83.2 in'\n",
      " '63.7 in' '76.5 in' '78.7 in' '65.8 in' '62.4 in' '43.9 in' '79.6 in'\n",
      " '49.4 in' '101 in' '73.3 in' '87.3 in' '79.4 in' '85 in' '80.6 in'\n",
      " '80.3 in' '84.5 in' '109.4 in' '100.8 in' '61.4 in' '48.6 in' '46.5 in'\n",
      " '50.1 in' '47.3 in' '82.6 in' '47.2 in' '46.4 in' '64 in' '53.2 in'\n",
      " '84 in' '110.4 in' '106.8 in' '51.9 in' '49.1 in' '74.8 in' '51.6 in'\n",
      " '62 in' '50.2 in' '69.2 in' '44.7 in' '91 in' '93.9 in' '110.8 in'\n",
      " '105.5 in' '52.1 in' '97.9 in' '114.2 in' '111.3 in' '100.1 in' '47.6 in'\n",
      " '46.3 in' '108.4 in' '110.5 in' '46 in' '48.9 in' '94.3 in' '78.9 in'\n",
      " '52.2 in' '107.2 in' '49.9 in' '52.7 in' '110 in' '87 in' '90 in'\n",
      " '45.8 in' '60.3 in' '47 in' '88 in' '94.5 in' '82.1 in' '82.3 in'\n",
      " '48.1 in' '106 in' '74.7 in' '50.3 in' '48.4 in' '86.5 in' '47.5 in'\n",
      " '47.9 in' '51.7 in' '113.5 in' '96.5 in' '107.3 in' '108.7 in' '107 in'\n",
      " '110.9 in' '86.8 in' '49.7 in' '109.6 in' '47.1 in' '78.6 in' '117.6 in'\n",
      " '48.2 in' '109.1 in' '97.8 in' '108.5 in' '49.6 in' '49.8 in' '81.8 in'\n",
      " '52.5 in' '47.4 in' '46.9 in' '98.7 in' '83.8 in' '81.9 in' '81.7 in'\n",
      " '46.1 in' '46.7 in' '46.8 in' '48 in' '45.2 in' '44.3 in' '53.4 in'\n",
      " '49.5 in' '104 in' '108.2 in' '108.9 in' '45.6 in' '84.9 in' '103 in'\n",
      " '105.8 in' '108.8 in' '43.7 in' '44 in' '109.2 in' '103.6 in' '50.5 in'\n",
      " '48.3 in' '64.3 in' '79 in' '97.2 in' '82.7 in' '95.9 in' '93.1 in'\n",
      " '94.7 in' '102.7 in' '108 in' '61.1 in' '93.3 in' '96.2 in' '96.1 in'\n",
      " '100.3 in' '96.4 in' '45.3 in' '88.2 in' '110.6 in' '43.5 in' '82.5 in'\n",
      " '44.9 in' '93 in' '111.2 in']\n",
      "['166.6 in' '181 in' '180.9 in' '195.1 in' '188.9 in' '183.5 in'\n",
      " '172.1 in' '157.5 in' '182.5 in' '168.3 in' '179.1 in' '179.9 in'\n",
      " '193.8 in' '184.8 in' '204.3 in' '203.7 in' '189.8 in' '175.1 in' nan\n",
      " '166.9 in' '181.1 in' '192.3 in' '191.7 in' '187.8 in' '192.1 in'\n",
      " '173.4 in' '201.2 in' '188.4 in' '182.3 in' '183.1 in' '200.8 in'\n",
      " '230 in' '183.3 in' '192.5 in' '191.1 in' '198.3 in' '210 in' '189.9 in'\n",
      " '192.6 in' '203.9 in' '176.2 in' '174.7 in' '203.6 in' '224.4 in'\n",
      " '188.3 in' '167.6 in' '183.9 in' '175.3 in' '173 in' '184.9 in'\n",
      " '192.8 in' '182 in' '175.6 in' '189.2 in' '174.5 in' '196.9 in'\n",
      " '191.5 in' '197.6 in' '183.7 in' '250 in' '224.9 in' '198.5 in' '204 in'\n",
      " '198.4 in' '224 in' '199.4 in' '191.4 in' '187.4 in' '190.3 in'\n",
      " '232.9 in' '231.7 in' '197.5 in' '196.8 in' '201.3 in' '190.8 in'\n",
      " '186.3 in' '178.2 in' '191 in' '229 in' '193.1 in' '239.5 in' '184.4 in'\n",
      " '190.9 in' '212 in' '179.4 in' '202.8 in' '192 in' '191.9 in' '203.8 in'\n",
      " '180.7 in' '183 in' '179.3 in' '205.3 in' '184.5 in' '180.6 in'\n",
      " '172.4 in' '178.3 in' '175 in' '195.6 in' '216.7 in' '187.6 in'\n",
      " '173.8 in' '184.1 in' '200.6 in' '200 in' '192.9 in' '175.4 in'\n",
      " '175.5 in' '194.5 in' '182.2 in' '188.2 in' '239.6 in' '182.6 in'\n",
      " '186.1 in' '182.9 in' '212.4 in' '192.4 in' '190.7 in' '200.4 in'\n",
      " '182.1 in' '177 in' '212.3 in' '185.1 in' '185.2 in' '189.5 in'\n",
      " '224.2 in' '190.6 in' '186.7 in' '187 in' '179.5 in' '193 in' '181.5 in'\n",
      " '197 in' '224.3 in' '188 in' '196.2 in' '225.8 in' '174.8 in' '189.6 in'\n",
      " '182.8 in' '173.9 in' '188.7 in' '172.2 in' '176.9 in' '209 in'\n",
      " '206.5 in' '212.7 in' '183.6 in' '185.5 in' '205 in' '197.9 in'\n",
      " '195.5 in' '188.8 in' '175.2 in' '196.1 in' '191.3 in' '160.1 in'\n",
      " '176.4 in' '178.1 in' '177.3 in' '201.4 in' '202.9 in' '194.4 in'\n",
      " '181.8 in' '193.9 in' '209.3 in' '162.8 in' '202.5 in' '159.6 in'\n",
      " '163 in' '165.2 in' '231.9 in' '194.6 in' '178.7 in' '183.4 in'\n",
      " '197.2 in' '185.7 in' '185 in' '171.5 in' '168 in' '182.7 in' '191.8 in'\n",
      " '190.4 in' '185.6 in' '162.2 in' '171.6 in' '176.6 in' '202 in'\n",
      " '229.5 in' '193.4 in' '160 in' '229.9 in' '--' '185.3 in' '149.4 in'\n",
      " '189 in' '178.9 in' '155.5 in' '248.4 in' '203.2 in' '176.8 in'\n",
      " '222.9 in' '175.8 in' '180 in' '197.1 in' '189.1 in' '202.1 in'\n",
      " '195.7 in' '169.3 in' '229.8 in' '169.1 in' '211.9 in' '181.9 in'\n",
      " '178.5 in' '188.5 in' '201 in' '187.2 in' '200.9 in' '186.8 in'\n",
      " '191.6 in' '152.8 in' '195.8 in' '171.7 in' '190.2 in' '193.3 in'\n",
      " '179.2 in' '187.1 in' '176.7 in' '206.8 in' '188.1 in' '213.7 in'\n",
      " '184.6 in' '161.6 in' '207.6 in' '172 in' '194.2 in' '201.9 in'\n",
      " '173.6 in' '207.7 in' '180.3 in' '166.8 in' '203.1 in' '263.9 in'\n",
      " '197.7 in' '180.1 in' '200.2 in' '177.9 in' '187.9 in' '176 in'\n",
      " '194.1 in' '189.3 in' '193.6 in' '203 in' '179.6 in' '174.3 in'\n",
      " '186.4 in' '154.1 in' '232 in' '200.5 in' '173.5 in' '178.4 in'\n",
      " '171.9 in' '172.6 in' '185.9 in' '199.6 in' '228.9 in' '243.7 in'\n",
      " '198.6 in' '192.2 in' '180.2 in' '168.8 in' '174.9 in' '190 in'\n",
      " '174.4 in' '206.6 in' '189.7 in' '179.7 in' '218 in' '193.2 in'\n",
      " '201.6 in' '169.4 in' '202.4 in' '238.8 in' '145.6 in' '201.7 in'\n",
      " '186.9 in' '195.4 in' '206.9 in' '194.9 in' '207.3 in' '210.7 in'\n",
      " '244.1 in' '260.8 in' '205.8 in' '202.6 in' '224.5 in' '241.8 in'\n",
      " '174.2 in' '200.1 in' '198 in' '208.9 in' '193.5 in' '184.3 in'\n",
      " '197.3 in' '175.9 in' '194 in' '197.4 in' '174.6 in' '192.7 in'\n",
      " '172.8 in' '184.2 in' '248.6 in' '222.4 in' '191.2 in' '167.2 in'\n",
      " '164 in' '208.1 in' '168.4 in' '204.1 in' '207.4 in' '199.8 in'\n",
      " '180.5 in' '202.2 in' '177.6 in' '161.1 in' '170.1 in' '169.9 in'\n",
      " '173.2 in' '157.4 in' '196.5 in' '190.5 in' '226.4 in' '177.8 in'\n",
      " '177.4 in' '221.9 in' '198.8 in' '167.3 in' '204.9 in' '186.2 in'\n",
      " '163.8 in' '208.3 in' '184.7 in' '235.8 in' '166.1 in' '202.3 in'\n",
      " '196.3 in' '165 in' '183.8 in' '289.8 in' '162 in' '168.7 in' '179 in'\n",
      " '205.6 in' '159 in' '161.3 in' '186.5 in' '159.1 in' '159.3 in'\n",
      " '221.3 in' '156.7 in' '254.4 in' '198.9 in' '170.9 in' '164.5 in'\n",
      " '139.6 in' '235.5 in' '222.3 in' '200.7 in' '171.3 in' '194.3 in'\n",
      " '194.7 in' '203.3 in' '187.3 in' '196.4 in' '199.9 in' '167 in'\n",
      " '199.1 in' '171 in' '193.7 in' '181.3 in' '196.6 in' '157.3 in'\n",
      " '214.7 in' '195 in' '224.1 in' '237.4 in' '199.2 in' '205.5 in'\n",
      " '187.5 in' '201.8 in' '266.2 in' '207.2 in' '176.5 in' '237.6 in'\n",
      " '196.7 in' '204.7 in' '174 in' '215 in' '230.6 in' '161.8 in' '250.1 in'\n",
      " '237.9 in' '169.5 in' '169.8 in' '199.3 in' '195.3 in' '166.7 in'\n",
      " '219.9 in' '200.3 in' '230.2 in' '179.8 in' '168.5 in' '227.7 in'\n",
      " '218.9 in' '243.2 in' '186 in' '170.3 in' '196 in' '224.7 in' '177.1 in'\n",
      " '232.5 in' '178.8 in' '166 in' '263 in' '164.6 in' '164.3 in' '106.1 in'\n",
      " '184 in' '171.2 in' '215.4 in' '158.7 in' '170.5 in' '225.5 in'\n",
      " '246.8 in' '161.5 in' '205.1 in' '210.8 in' '195.9 in' '246.2 in'\n",
      " '190.1 in' '160.5 in' '162.4 in' '231.8 in' '229.7 in' '236.7 in'\n",
      " '186.6 in' '146.2 in' '253.3 in' '180.4 in' '207.1 in' '266.7 in'\n",
      " '247.5 in' '178.6 in' '262 in' '261.9 in' '228.7 in' '254.8 in'\n",
      " '217.8 in' '237.3 in' '172.5 in' '225 in' '240.2 in' '232.4 in' '261 in'\n",
      " '249.7 in' '239.9 in' '157.8 in' '159.7 in' '144.7 in' '218.3 in'\n",
      " '230.3 in' '226.7 in' '227.6 in' '144.4 in' '227 in' '240.6 in' '222 in'\n",
      " '150.9 in' '208.4 in' '259.1 in' '195.2 in' '176.3 in' '158.3 in'\n",
      " '167.5 in' '163.7 in' '170.7 in' '194.8 in' '164.9 in' '224.6 in'\n",
      " '229.4 in' '163.1 in' '182.4 in' '237.2 in' '218.8 in' '218.5 in'\n",
      " '228.5 in' '230.1 in' '248.3 in' '236.4 in' '211.2 in' '258.7 in'\n",
      " '210.2 in' '208.7 in' '219.5 in' '159.8 in' '205.7 in' '154.7 in'\n",
      " '246.6 in' '202.7 in' '213.1 in' '226.9 in' '266.1 in' '181.2 in'\n",
      " '258.4 in' '213.2 in' '151.9 in' '166.5 in' '150.6 in' '154.3 in'\n",
      " '170.4 in' '161.7 in' '168.2 in' '171.4 in' '248.8 in' '221.6 in'\n",
      " '219.4 in' '212.6 in' '205.9 in' '249 in' '225.9 in' '249.9 in'\n",
      " '189.4 in' '177.2 in' '171.1 in' '149 in' '259.3 in' '120.1 in'\n",
      " '181.6 in' '231 in' '244 in' '247.6 in' '250.3 in' '177.5 in' '160.4 in'\n",
      " '158 in' '198.1 in' '177.7 in' '164.8 in' '221.7 in' '143.9 in'\n",
      " '226.2 in' '236.2 in' '223.3 in' '231.2 in' '247.4 in' '168.9 in'\n",
      " '173.7 in' '250.9 in' '236 in' '229.3 in' '206.2 in' '155.4 in'\n",
      " '161.4 in' '248 in' '150.1 in' '206 in' '165.9 in' '264.2 in' '208.5 in'\n",
      " '220.9 in' '227.2 in' '178 in' '208.6 in' '207.9 in' '172.9 in' '169 in'\n",
      " '220.8 in' '219.3 in' '163.3 in' '183.2 in' '165.4 in' '201.1 in'\n",
      " '165.8 in' '237 in' '154.9 in' '245.8 in' '162.9 in' '228.2 in'\n",
      " '205.2 in' '180.8 in' '228.1 in' '164.7 in' '243.4 in' '169.6 in'\n",
      " '242.8 in' '227.9 in' '250.5 in' '160.7 in' '167.7 in' '252.7 in'\n",
      " '143.1 in' '173.1 in' '158.5 in' '203.4 in' '206.1 in' '181.7 in'\n",
      " '233.3 in' '215.8 in' '211.4 in' '161.9 in' '273.2 in' '274.1 in'\n",
      " '152.5 in' '233.5 in' '207.8 in' '207 in' '238.2 in' '290 in' '188.6 in'\n",
      " '248.9 in' '174.1 in' '225.7 in' '217 in' '155.8 in' '247.8 in'\n",
      " '148.8 in' '223.8 in' '164.2 in' '204.4 in' '259.4 in' '231.4 in'\n",
      " '167.8 in' '226 in' '220.3 in' '152.7 in' '240.5 in' '282.3 in'\n",
      " '239.8 in' '225.3 in' '270.3 in' '206.7 in' '155 in' '286.5 in'\n",
      " '241.1 in' '262.4 in' '263.6 in' '271.5 in' '226.5 in' '234.3 in'\n",
      " '185.4 in' '225.2 in' '148 in' '269.5 in' '167.4 in' '151.1 in'\n",
      " '165.3 in' '159.4 in' '217.5 in' '211 in' '214.1 in' '187.7 in'\n",
      " '220.6 in' '147.7 in' '265.2 in' '249.2 in' '185.8 in' '142.8 in'\n",
      " '225.1 in' '172.3 in' '201.5 in' '249.5 in' '215.1 in' '215.3 in'\n",
      " '226.6 in' '230.7 in' '274.3 in' '167.1 in' '289.2 in' '247.2 in'\n",
      " '106.3 in' '229.6 in' '258.3 in' '176.1 in' '168.1 in' '227.4 in'\n",
      " '261.1 in' '153.5 in' '230.4 in' '235.3 in' '155.3 in' '172.7 in'\n",
      " '209.7 in' '220 in' '227.5 in' '207.5 in' '209.1 in' '211.5 in'\n",
      " '211.8 in' '169.7 in' '166.2 in' '274.2 in' '147 in' '153 in' '245.6 in'\n",
      " '222.1 in' '163.2 in' '256.5 in' '157.1 in' '208 in' '266 in' '225.6 in'\n",
      " '209.8 in' '221.4 in' '199 in' '204.6 in' '157 in' '151.8 in' '203.5 in'\n",
      " '157.2 in' '222.2 in' '248.7 in' '267.2 in' '163.5 in' '250.4 in'\n",
      " '206.4 in' '219 in' '198.2 in' '211.1 in' '163.4 in' '158.1 in'\n",
      " '258.5 in' '220.1 in' '156.1 in' '246.5 in' '239 in' '256.2 in'\n",
      " '247.9 in' '239.7 in' '232.1 in' '162.6 in' '261.8 in' '263.4 in'\n",
      " '246.7 in' '250.6 in' '214.8 in' '204.8 in' '152.6 in' '234 in'\n",
      " '149.5 in' '247.7 in' '243.9 in' '242.7 in' '256.1 in' '197.8 in'\n",
      " '212.2 in' '146.8 in' '205.4 in' '165.7 in' '244.4 in' '243.6 in'\n",
      " '165.6 in' '251.9 in' '220.2 in' '216 in' '167.9 in' '170.2 in'\n",
      " '155.9 in' '213.3 in' '232.2 in' '247 in' '157.9 in' '175.7 in'\n",
      " '217.7 in' '165.1 in' '154 in' '170 in' '274.5 in' '171.8 in' '152 in'\n",
      " '164.4 in' '168.6 in' '230.5 in' '244.2 in' '219.1 in' '206.3 in'\n",
      " '284.8 in' '162.1 in' '241.4 in' '221 in' '249.4 in' '212.8 in'\n",
      " '155.7 in' '214.2 in' '204.2 in' '263.2 in' '263.5 in' '285.9 in'\n",
      " '244.3 in' '198.7 in' '248.5 in' '241.2 in' '238.9 in' '254 in'\n",
      " '241.3 in' '199.7 in' '213.4 in' '210.6 in' '144 in' '255.1 in' '156 in'\n",
      " '234.5 in' '257.6 in' '218.7 in' '155.1 in' '166.3 in' '148.5 in'\n",
      " '156.4 in' '153.1 in' '151.6 in' '160.2 in' '213 in' '254.3 in'\n",
      " '109.3 in' '147.2 in' '287.2 in' '254.1 in' '246.9 in' '214 in'\n",
      " '218.2 in' '215.7 in' '223 in' '142 in' '294.1 in' '231.3 in' '160.9 in'\n",
      " '159.5 in' '235.1 in']\n",
      "['5 seats' '7 seats' '2 seats' '4 seats' '8 seats' nan '6 seats' '9 seats'\n",
      " '3 seats' '--' '15 seats' '12 seats' '10 seats']\n"
     ]
    },
    {
     "name": "stdout",
     "output_type": "stream",
     "text": [
      "['79.6 in' '85.6 in' '78.9 in' '87.4 in' '84.4 in' '70.7 in' '82.7 in'\n",
      " '73.5 in' '80 in' '69.6 in' '83.3 in' '70.9 in' '73 in' '81.5 in'\n",
      " '78.6 in' '78.5 in' '84.8 in' '71.4 in' nan '83.5 in' '73.6 in' '72.5 in'\n",
      " '82.8 in' '85.5 in' '73.8 in' '72.6 in' '75 in' '70.8 in' '74.6 in'\n",
      " '82.5 in' '73.2 in' '90.2 in' '93.8 in' '81.3 in' '71.8 in' '84.3 in'\n",
      " '80.5 in' '72.8 in' '78.1 in' '90.4 in' '72.4 in' '74.7 in' '69.9 in'\n",
      " '70.5 in' '82.2 in' '73.7 in' '71.2 in' '82.9 in' '105.9 in' '83.9 in'\n",
      " '77.2 in' '77.5 in' '76.7 in' '74.4 in' '75.2 in' '82.1 in' '81.9 in'\n",
      " '81.2 in' '86.5 in' '85.4 in' '85.2 in' '79.4 in' '79.3 in' '79.9 in'\n",
      " '69 in' '88.5 in' '86.4 in' '72 in' '83.2 in' '82.6 in' '84 in' '79.5 in'\n",
      " '69.8 in' '72.3 in' '79.8 in' '67.9 in' '73.4 in' '95.7 in' '69.2 in'\n",
      " '83.7 in' '72.9 in' '81.1 in' '71.5 in' '71.7 in' '96 in' '76.3 in'\n",
      " '72.2 in' '82.3 in' '70.4 in' '80.3 in' '78.8 in' '75.5 in' '70.1 in'\n",
      " '85 in' '79 in' '77.7 in' '68.9 in' '71.1 in' '77 in' '68 in' '87.3 in'\n",
      " '74.3 in' '83 in' '80.8 in' '85.8 in' '78.2 in' '67.8 in' '81.8 in'\n",
      " '89.3 in' '91.5 in' '96.8 in' '68.5 in' '87.5 in' '74 in' '70 in'\n",
      " '69.3 in' '70.3 in' '74.9 in' '73.3 in' '68.3 in' '--' '65.6 in'\n",
      " '73.1 in' '66.7 in' '80.1 in' '79.1 in' '74.1 in' '69.5 in' '85.7 in'\n",
      " '69.4 in' '77.1 in' '77.4 in' '81 in' '74.8 in' '84.2 in' '97.6 in'\n",
      " '71.6 in' '84.1 in' '84.6 in' '77.8 in' '71 in' '78.4 in' '77.3 in'\n",
      " '71.9 in' '86.7 in' '69.7 in' '69.1 in' '78 in' '74.2 in' '97.4 in'\n",
      " '75.9 in' '91.8 in' '75.8 in' '71.3 in' '72.7 in' '75.7 in' '84.9 in'\n",
      " '78.3 in' '87.1 in' '67.1 in' '66.9 in' '80.2 in' '86 in' '88.3 in'\n",
      " '76 in' '82.4 in' '80.6 in' '83.1 in' '80.9 in' '96.5 in' '82 in'\n",
      " '83.4 in' '104.9 in' '75.6 in' '86.1 in' '70.6 in' '83.8 in' '76.2 in'\n",
      " '66.8 in' '75.4 in' '66.2 in' '72.1 in' '93.4 in' '70.2 in' '92.3 in'\n",
      " '67.2 in' '66.5 in' '68.1 in' '95.5 in' '79.2 in' '81.7 in' '67.7 in'\n",
      " '97 in' '76.8 in' '81.4 in' '76.1 in' '67.5 in' '73.9 in' '86.2 in'\n",
      " '88.8 in' '67 in' '89.9 in' '65.7 in' '98.1 in' '88 in' '76.9 in'\n",
      " '80.7 in' '67.6 in' '74.5 in' '76.4 in' '79.7 in' '68.7 in' '86.6 in'\n",
      " '68.6 in' '99.6 in' '62.9 in' '87.7 in' '99.5 in' '80.4 in' '78.7 in'\n",
      " '84.5 in' '98.6 in' '77.6 in' '66.1 in' '76.6 in' '65.5 in' '68.8 in'\n",
      " '98 in' '67.3 in' '65.4 in' '85.1 in' '77.9 in' '86.9 in' '75.1 in'\n",
      " '85.9 in' '89.5 in' '63.5 in' '75.3 in' '102.8 in' '68.2 in' '64.1 in'\n",
      " '94.9 in' '62.8 in' '66 in' '66.6 in' '65 in' '89.2 in' '76.5 in'\n",
      " '92.2 in' '61.4 in' '93.9 in' '66.3 in' '86.3 in' '66.4 in' '87.2 in'\n",
      " '64.6 in' '67.4 in' '95.9 in' '64 in' '89.1 in' '96.1 in' '68.4 in'\n",
      " '42.5 in' '65.9 in' '87.6 in' '109 in' '57 in' '101 in' '81.6 in'\n",
      " '96.7 in' '88.1 in' '63.8 in' '64.8 in' '63.7 in' '64.2 in' '106 in'\n",
      " '65.3 in' '93.5 in' '94.3 in' '63 in' '62 in' '65.2 in' '90.7 in'\n",
      " '62.6 in' '55 in' '65.1 in']\n"
     ]
    }
   ],
   "source": [
    "#finding all unique values per column to see what values we need to clean\n",
    "columns_that_need_cleaning_2 = ['fuel_tank_volume','height','length','maximum_seating','width',]\n",
    "for col in columns_that_need_cleaning_2:\n",
    "        print(df_cln_2[col].unique())"
   ]
  },
  {
   "cell_type": "code",
   "execution_count": 10,
   "metadata": {
    "scrolled": true
   },
   "outputs": [],
   "source": [
    "#removing unecesary string values in columns\n",
    "#then cleaning up any values that contain '--' and replacing it with NaN\n",
    "#Lastly, converting the value first to a string type and then to a float type\n",
    "\n",
    "df_cln_2['fuel_tank_volume']=df_cln_2['fuel_tank_volume'].astype(str).str.replace(' gal', '').replace('--',np.NaN).astype(float)\n",
    "df_cln_2['height']=df_cln_2['height'].astype(str).str.replace(' in', '').replace('--',np.NaN).astype(float)\n",
    "df_cln_2['length']=df_cln_2['height'].astype(str).str.replace(' in', '').replace('--',np.NaN).astype(float)\n",
    "df_cln_2['maximum_seating']=df_cln_2['maximum_seating'].astype(str).str.replace(' seats', '').replace('--',np.NaN).astype(float)\n",
    "df_cln_2['width']=df_cln_1['width'].astype(str).str.replace(' in', '').replace('--',np.NaN).astype(float)"
   ]
  },
  {
   "cell_type": "code",
   "execution_count": 11,
   "metadata": {
    "scrolled": false
   },
   "outputs": [
    {
     "name": "stdout",
     "output_type": "stream",
     "text": [
      "datetime64[ns]\n"
     ]
    }
   ],
   "source": [
    "#fixing date type values from object type to date time\n",
    "df_cln_2['listed_date']=pd.to_datetime(df_cln_2['listed_date'])\n",
    "print(df_cln_2['listed_date'].dtypes)"
   ]
  },
  {
   "cell_type": "code",
   "execution_count": 12,
   "metadata": {
    "scrolled": false
   },
   "outputs": [
    {
     "name": "stdout",
     "output_type": "stream",
     "text": [
      "<class 'pandas.core.frame.DataFrame'>\n",
      "RangeIndex: 3000040 entries, 0 to 3000039\n",
      "Data columns (total 38 columns):\n",
      " #   Column                Dtype         \n",
      "---  ------                -----         \n",
      " 0   vin                   object        \n",
      " 1   body_type             object        \n",
      " 2   city                  object        \n",
      " 3   city_fuel_economy     float64       \n",
      " 4   daysonmarket          int64         \n",
      " 5   engine_displacement   float64       \n",
      " 6   engine_type           object        \n",
      " 7   exterior_color        object        \n",
      " 8   frame_damaged         object        \n",
      " 9   franchise_dealer      bool          \n",
      " 10  franchise_make        object        \n",
      " 11  fuel_tank_volume      float64       \n",
      " 12  fuel_type             object        \n",
      " 13  has_accidents         object        \n",
      " 14  height                float64       \n",
      " 15  highway_fuel_economy  float64       \n",
      " 16  horsepower            float64       \n",
      " 17  interior_color        object        \n",
      " 18  isCab                 object        \n",
      " 19  is_new                bool          \n",
      " 20  length                float64       \n",
      " 21  listed_date           datetime64[ns]\n",
      " 22  listing_color         object        \n",
      " 23  make_name             object        \n",
      " 24  maximum_seating       float64       \n",
      " 25  mileage               float64       \n",
      " 26  model_name            object        \n",
      " 27  owner_count           float64       \n",
      " 28  power                 object        \n",
      " 29  price                 float64       \n",
      " 30  salvage               object        \n",
      " 31  seller_rating         float64       \n",
      " 32  torque                object        \n",
      " 33  transmission          object        \n",
      " 34  wheel_system          object        \n",
      " 35  wheel_system_display  object        \n",
      " 36  width                 float64       \n",
      " 37  year                  int64         \n",
      "dtypes: bool(2), datetime64[ns](1), float64(13), int64(2), object(20)\n",
      "memory usage: 829.7+ MB\n",
      "None\n"
     ]
    }
   ],
   "source": [
    "#doing a quick profile on the subsetted columns\n",
    "print(df_cln_2.info())"
   ]
  },
  {
   "cell_type": "markdown",
   "metadata": {},
   "source": [
    "We can now see that all of our column values have been adjusted to the correct datatypes. We will next proceed with cleaning up the values of our data. Since pandas default all 'object' types as strings, we will not need to convert these attribute types and can leave them as is."
   ]
  },
  {
   "cell_type": "markdown",
   "metadata": {},
   "source": [
    "### Data Cleaning - Missing Data & Nulls\n",
    "Now that our datatypes have been adjusted. We will work on cleaning up any empty data in our dataset. A quick visualization of our data shows that almost every column has empty values. We will focus on analyzing those that have a large amount of empty data (ex. Frame_Damaged, has_accidents, isCab, etc.)"
   ]
  },
  {
   "cell_type": "code",
   "execution_count": 13,
   "metadata": {
    "scrolled": false
   },
   "outputs": [
    {
     "data": {
      "text/plain": [
       "<AxesSubplot:>"
      ]
     },
     "execution_count": 13,
     "metadata": {},
     "output_type": "execute_result"
    },
    {
     "data": {
      "image/png": "[encoded data removed]",
      "text/plain": [
       "<Figure size 1800x720 with 2 Axes>"
      ]
     },
     "metadata": {
      "needs_background": "light"
     },
     "output_type": "display_data"
    }
   ],
   "source": [
    "#visualizing the \n",
    "msno.matrix(df_cln_2)"
   ]
  },
  {
   "cell_type": "code",
   "execution_count": 14,
   "metadata": {
    "scrolled": false
   },
   "outputs": [],
   "source": [
    "import matplotlib.pyplot as plt\n",
    "import seaborn as sns"
   ]
  },
  {
   "cell_type": "code",
   "execution_count": 15,
   "metadata": {},
   "outputs": [
    {
     "data": {
      "text/plain": [
       "<seaborn.axisgrid.FacetGrid at 0x210839df460>"
      ]
     },
     "execution_count": 15,
     "metadata": {},
     "output_type": "execute_result"
    },
    {
     "data": {
      "image/png": "[encoded data removed]",
      "text/plain": [
       "<Figure size 360x360 with 1 Axes>"
      ]
     },
     "metadata": {
      "needs_background": "light"
     },
     "output_type": "display_data"
    }
   ],
   "source": [
    "sns.catplot(x=\"city_fuel_economy\", kind=\"count\", data=df_cln_2)"
   ]
  },
  {
   "cell_type": "code",
   "execution_count": 35,
   "metadata": {
    "scrolled": false
   },
   "outputs": [
    {
     "data": {
      "text/plain": [
       "<seaborn.axisgrid.FacetGrid at 0x210f484e580>"
      ]
     },
     "execution_count": 35,
     "metadata": {},
     "output_type": "execute_result"
    },
    {
     "data": {
      "image/png": "[encoded data removed]",
      "text/plain": [
       "<Figure size 360x360 with 1 Axes>"
      ]
     },
     "metadata": {
      "needs_background": "light"
     },
     "output_type": "display_data"
    }
   ],
   "source": [
    "sns.catplot(x=\"frame_damaged\", kind=\"count\", data=df_cln_2.fillna('Missing'))"
   ]
  },
  {
   "cell_type": "code",
   "execution_count": 34,
   "metadata": {},
   "outputs": [
    {
     "name": "stdout",
     "output_type": "stream",
     "text": [
      "frame_damaged    1573445\n",
      "dtype: int64\n",
      "frame_damaged    1426595\n",
      "dtype: int64\n",
      "[nan False True]\n"
     ]
    }
   ],
   "source": [
    "print(df_cln_2[['frame_damaged']].notnull().sum())\n",
    "print(df_cln_2[['frame_damaged']].isnull().sum())\n",
    "print(df_cln_2['frame_damaged'].unique())"
   ]
  },
  {
   "cell_type": "code",
   "execution_count": 36,
   "metadata": {
    "scrolled": false
   },
   "outputs": [
    {
     "data": {
      "text/plain": [
       "<seaborn.axisgrid.FacetGrid at 0x2108397ba00>"
      ]
     },
     "execution_count": 36,
     "metadata": {},
     "output_type": "execute_result"
    },
    {
     "data": {
      "image/png": "[encoded data removed]",
      "text/plain": [
       "<Figure size 360x360 with 1 Axes>"
      ]
     },
     "metadata": {
      "needs_background": "light"
     },
     "output_type": "display_data"
    }
   ],
   "source": [
    "sns.catplot(x=\"has_accidents\", kind=\"count\", data=df_cln_2.fillna('Missing'))"
   ]
  },
  {
   "cell_type": "code",
   "execution_count": 37,
   "metadata": {
    "scrolled": false
   },
   "outputs": [
    {
     "data": {
      "text/plain": [
       "<seaborn.axisgrid.FacetGrid at 0x210f26216d0>"
      ]
     },
     "execution_count": 37,
     "metadata": {},
     "output_type": "execute_result"
    },
    {
     "data": {
      "image/png": "[encoded data removed]",
      "text/plain": [
       "<Figure size 360x360 with 1 Axes>"
      ]
     },
     "metadata": {
      "needs_background": "light"
     },
     "output_type": "display_data"
    }
   ],
   "source": [
    "sns.catplot(x=\"isCab\", kind=\"count\", data=df_cln_2.fillna('Missing'))"
   ]
  },
  {
   "cell_type": "code",
   "execution_count": 38,
   "metadata": {
    "scrolled": false
   },
   "outputs": [
    {
     "data": {
      "text/plain": [
       "<seaborn.axisgrid.FacetGrid at 0x210f34ba370>"
      ]
     },
     "execution_count": 38,
     "metadata": {},
     "output_type": "execute_result"
    },
    {
     "data": {
      "image/png": "[encoded data removed]",
      "text/plain": [
       "<Figure size 360x360 with 1 Axes>"
      ]
     },
     "metadata": {
      "needs_background": "light"
     },
     "output_type": "display_data"
    }
   ],
   "source": [
    "sns.catplot(x=\"owner_count\", kind=\"count\", data=df_cln_2.fillna('Missing'))"
   ]
  },
  {
   "cell_type": "code",
   "execution_count": 39,
   "metadata": {
    "scrolled": false
   },
   "outputs": [
    {
     "data": {
      "text/plain": [
       "<seaborn.axisgrid.FacetGrid at 0x210f2af7be0>"
      ]
     },
     "execution_count": 39,
     "metadata": {},
     "output_type": "execute_result"
    },
    {
     "data": {
      "image/png": "[encoded data removed]",
      "text/plain": [
       "<Figure size 360x360 with 1 Axes>"
      ]
     },
     "metadata": {
      "needs_background": "light"
     },
     "output_type": "display_data"
    }
   ],
   "source": [
    "sns.catplot(x=\"salvage\", kind=\"count\", data=df_cln_2.fillna('Missing'))"
   ]
  },
  {
   "cell_type": "code",
   "execution_count": null,
   "metadata": {
    "scrolled": false
   },
   "outputs": [],
   "source": []
  },
  {
   "cell_type": "code",
   "execution_count": null,
   "metadata": {
    "scrolled": false
   },
   "outputs": [],
   "source": []
  }
 ],
 "metadata": {
  "kernelspec": {
   "display_name": "Python 3",
   "language": "python",
   "name": "python3"
  },
  "language_info": {
   "codemirror_mode": {
    "name": "ipython",
    "version": 3
   },
   "file_extension": ".py",
   "mimetype": "text/x-python",
   "name": "python",
   "nbconvert_exporter": "python",
   "pygments_lexer": "ipython3",
   "version": "3.8.5"
  }
 },
 "nbformat": 4,
 "nbformat_minor": 4
}
