{
 "cells": [
  {
   "cell_type": "markdown",
   "metadata": {},
   "source": [
    "# Lab 1 - Used Cars in the USA\n",
    "#### By: David Wei, Sophia Wu, Dhruba Dey, Queena Wang"
   ]
  },
  {
   "cell_type": "markdown",
   "metadata": {},
   "source": [
    "### Summary:\n",
    "asdfasdfasdf\n",
    "\n",
    "### Description:\n",
    "asdfasdfas"
   ]
  },
  {
   "cell_type": "code",
   "execution_count": null,
   "metadata": {},
   "outputs": [],
   "source": [
    "#importing libraries and reading in file\n",
    "import pandas as pd\n",
    "import numpy as np\n",
    "\n",
    "df_raw = pd.read_csv('https://raw.githubusercontent.com/chee154/ml-Py-used_cars/main/data/kaggle_used_cars_data.csv')\n",
    "df_raw.head(2)"
   ]
  },
  {
   "cell_type": "code",
   "execution_count": null,
   "metadata": {},
   "outputs": [],
   "source": [
    "#subsetting columns\n",
    "df_cln_1 = df_raw.iloc[:, np.r_[5:8, 10, 13:16, 22:24, 26:27, 36:37, 42:49, 55:57, 65]]\n",
    "df_cln_1.head(2)"
   ]
  },
  {
   "cell_type": "code",
   "execution_count": null,
   "metadata": {},
   "outputs": [],
   "source": [
    "#validating data types of subsetted columns\n",
    "df_cln_1.dtypes"
   ]
  },
  {
   "cell_type": "code",
   "execution_count": 96,
   "metadata": {},
   "outputs": [
    {
     "data": {
      "text/html": [
       "<div>\n",
       "<style scoped>\n",
       "    .dataframe tbody tr th:only-of-type {\n",
       "        vertical-align: middle;\n",
       "    }\n",
       "\n",
       "    .dataframe tbody tr th {\n",
       "        vertical-align: top;\n",
       "    }\n",
       "\n",
       "    .dataframe thead th {\n",
       "        text-align: right;\n",
       "    }\n",
       "</style>\n",
       "<table border=\"1\" class=\"dataframe\">\n",
       "  <thead>\n",
       "    <tr style=\"text-align: right;\">\n",
       "      <th></th>\n",
       "      <th>daysonmarket</th>\n",
       "      <th>engine_displacement</th>\n",
       "      <th>highway_fuel_economy</th>\n",
       "      <th>mileage</th>\n",
       "      <th>owner_count</th>\n",
       "      <th>price</th>\n",
       "      <th>year</th>\n",
       "    </tr>\n",
       "  </thead>\n",
       "  <tbody>\n",
       "    <tr>\n",
       "      <th>count</th>\n",
       "      <td>30000.000000</td>\n",
       "      <td>28227.000000</td>\n",
       "      <td>25067.000000</td>\n",
       "      <td>28628.000000</td>\n",
       "      <td>14900.000000</td>\n",
       "      <td>30000.000000</td>\n",
       "      <td>30000.000000</td>\n",
       "    </tr>\n",
       "    <tr>\n",
       "      <th>mean</th>\n",
       "      <td>75.603600</td>\n",
       "      <td>2972.352712</td>\n",
       "      <td>29.466310</td>\n",
       "      <td>31169.266487</td>\n",
       "      <td>1.537047</td>\n",
       "      <td>29854.286763</td>\n",
       "      <td>2017.675100</td>\n",
       "    </tr>\n",
       "    <tr>\n",
       "      <th>std</th>\n",
       "      <td>108.743797</td>\n",
       "      <td>1349.350837</td>\n",
       "      <td>7.826778</td>\n",
       "      <td>45224.927636</td>\n",
       "      <td>0.920585</td>\n",
       "      <td>18620.579826</td>\n",
       "      <td>4.303064</td>\n",
       "    </tr>\n",
       "    <tr>\n",
       "      <th>min</th>\n",
       "      <td>0.000000</td>\n",
       "      <td>700.000000</td>\n",
       "      <td>12.000000</td>\n",
       "      <td>0.000000</td>\n",
       "      <td>1.000000</td>\n",
       "      <td>484.000000</td>\n",
       "      <td>1941.000000</td>\n",
       "    </tr>\n",
       "    <tr>\n",
       "      <th>25%</th>\n",
       "      <td>14.000000</td>\n",
       "      <td>2000.000000</td>\n",
       "      <td>25.000000</td>\n",
       "      <td>6.000000</td>\n",
       "      <td>1.000000</td>\n",
       "      <td>18289.500000</td>\n",
       "      <td>2017.000000</td>\n",
       "    </tr>\n",
       "    <tr>\n",
       "      <th>50%</th>\n",
       "      <td>36.000000</td>\n",
       "      <td>2500.000000</td>\n",
       "      <td>29.000000</td>\n",
       "      <td>8598.500000</td>\n",
       "      <td>1.000000</td>\n",
       "      <td>26366.500000</td>\n",
       "      <td>2020.000000</td>\n",
       "    </tr>\n",
       "    <tr>\n",
       "      <th>75%</th>\n",
       "      <td>80.000000</td>\n",
       "      <td>3600.000000</td>\n",
       "      <td>33.000000</td>\n",
       "      <td>43846.000000</td>\n",
       "      <td>2.000000</td>\n",
       "      <td>37985.000000</td>\n",
       "      <td>2020.000000</td>\n",
       "    </tr>\n",
       "    <tr>\n",
       "      <th>max</th>\n",
       "      <td>2227.000000</td>\n",
       "      <td>8100.000000</td>\n",
       "      <td>127.000000</td>\n",
       "      <td>369016.000000</td>\n",
       "      <td>12.000000</td>\n",
       "      <td>432925.000000</td>\n",
       "      <td>2021.000000</td>\n",
       "    </tr>\n",
       "  </tbody>\n",
       "</table>\n",
       "</div>"
      ],
      "text/plain": [
       "       daysonmarket  engine_displacement  highway_fuel_economy        mileage  \\\n",
       "count  30000.000000         28227.000000          25067.000000   28628.000000   \n",
       "mean      75.603600          2972.352712             29.466310   31169.266487   \n",
       "std      108.743797          1349.350837              7.826778   45224.927636   \n",
       "min        0.000000           700.000000             12.000000       0.000000   \n",
       "25%       14.000000          2000.000000             25.000000       6.000000   \n",
       "50%       36.000000          2500.000000             29.000000    8598.500000   \n",
       "75%       80.000000          3600.000000             33.000000   43846.000000   \n",
       "max     2227.000000          8100.000000            127.000000  369016.000000   \n",
       "\n",
       "        owner_count          price          year  \n",
       "count  14900.000000   30000.000000  30000.000000  \n",
       "mean       1.537047   29854.286763   2017.675100  \n",
       "std        0.920585   18620.579826      4.303064  \n",
       "min        1.000000     484.000000   1941.000000  \n",
       "25%        1.000000   18289.500000   2017.000000  \n",
       "50%        1.000000   26366.500000   2020.000000  \n",
       "75%        2.000000   37985.000000   2020.000000  \n",
       "max       12.000000  432925.000000   2021.000000  "
      ]
     },
     "execution_count": 96,
     "metadata": {},
     "output_type": "execute_result"
    }
   ],
   "source": [
    "# not only the numerical types are being displayed. We need to fix the other ones.\n",
    "df_cln_1.describe()"
   ]
  },
  {
   "cell_type": "markdown",
   "metadata": {},
   "source": [
    "Obviously at this point we need to convert a few of our data columns to the appropriate data type by removing parts of the value string that we do not need such as \"gal\" in the ful_tank_volume"
   ]
  },
  {
   "cell_type": "code",
   "execution_count": null,
   "metadata": {},
   "outputs": [],
   "source": [
    "#profiling class types:\n",
    "for col in ['engine_cylinders', 'engine_type','fuel_tank_volume','maximum_seating']:\n",
    "        print(df_cln_1[col].unique())"
   ]
  },
  {
   "cell_type": "markdown",
   "metadata": {},
   "source": [
    "After doing a quick profiling on some our identified columsn, we can see that both engine_cylinders and engine_type are the same. Additionally, we also found that the prefixes and suffixes attached to them are descriptive of it and thus not a continuous value. \n",
    "\n",
    "Regarding fuel_tank_volume and maximum_seating, we can see that there appears to be a pattern in the suffixes, \"gal\" and \"seats\" accordingly. We will now remove them and then convert all values to numeric."
   ]
  },
  {
   "cell_type": "code",
   "execution_count": null,
   "metadata": {
    "scrolled": true
   },
   "outputs": [],
   "source": [
    "# removing unecesary string values in columns\n",
    "df_cln_1['fuel_tank_volume']=df_cln_1['fuel_tank_volume'].str.replace(' gal', '')\n",
    "df_cln_1['maximum_seating']=df_cln_1['maximum_seating'].str.replace(' seats', '')\n",
    "\n",
    "df_cln_1.head(10)"
   ]
  },
  {
   "cell_type": "code",
   "execution_count": null,
   "metadata": {},
   "outputs": [],
   "source": [
    "print(\"Total # of Records: \" + str(df_cln_1.shape[0]))\n",
    "print(\"Total # of Columns: \" + str(df_cln_1.shape[1]))"
   ]
  },
  {
   "cell_type": "code",
   "execution_count": null,
   "metadata": {},
   "outputs": [],
   "source": []
  },
  {
   "cell_type": "code",
   "execution_count": null,
   "metadata": {},
   "outputs": [],
   "source": []
  },
  {
   "cell_type": "code",
   "execution_count": null,
   "metadata": {},
   "outputs": [],
   "source": []
  },
  {
   "cell_type": "code",
   "execution_count": null,
   "metadata": {},
   "outputs": [],
   "source": []
  },
  {
   "cell_type": "code",
   "execution_count": null,
   "metadata": {},
   "outputs": [],
   "source": []
  }
 ],
 "metadata": {
  "kernelspec": {
   "display_name": "Python 3",
   "language": "python",
   "name": "python3"
  },
  "language_info": {
   "codemirror_mode": {
    "name": "ipython",
    "version": 3
   },
   "file_extension": ".py",
   "mimetype": "text/x-python",
   "name": "python",
   "nbconvert_exporter": "python",
   "pygments_lexer": "ipython3",
   "version": "3.8.5"
  }
 },
 "nbformat": 4,
 "nbformat_minor": 4
}
