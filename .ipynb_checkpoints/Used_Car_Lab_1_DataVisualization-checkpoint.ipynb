{
 "cells": [
  {
   "cell_type": "markdown",
   "metadata": {},
   "source": [
    "# Lab 1 - Used Cars in the USA\n",
    "#### By: David Wei, Sophia Wu, Dhruba Dey, Queena Wang"
   ]
  },
  {
   "cell_type": "markdown",
   "metadata": {},
   "source": [
    "### Summary:\n",
    "asdfasdfasdf\n",
    "\n",
    "### Description:\n",
    "asdfasdfas"
   ]
  },
  {
   "cell_type": "code",
   "execution_count": 1,
   "metadata": {},
   "outputs": [],
   "source": [
    "#importing libraries and reading in file\n",
    "import pandas as pd\n",
    "import numpy as np\n",
    "import warnings\n",
    "warnings.filterwarnings('ignore') #ignoring warnings"
   ]
  },
  {
   "cell_type": "code",
   "execution_count": 2,
   "metadata": {},
   "outputs": [
    {
     "data": {
      "text/html": [
       "<div>\n",
       "<style scoped>\n",
       "    .dataframe tbody tr th:only-of-type {\n",
       "        vertical-align: middle;\n",
       "    }\n",
       "\n",
       "    .dataframe tbody tr th {\n",
       "        vertical-align: top;\n",
       "    }\n",
       "\n",
       "    .dataframe thead th {\n",
       "        text-align: right;\n",
       "    }\n",
       "</style>\n",
       "<table border=\"1\" class=\"dataframe\">\n",
       "  <thead>\n",
       "    <tr style=\"text-align: right;\">\n",
       "      <th></th>\n",
       "      <th>vin</th>\n",
       "      <th>back_legroom</th>\n",
       "      <th>bed</th>\n",
       "      <th>bed_height</th>\n",
       "      <th>bed_length</th>\n",
       "      <th>body_type</th>\n",
       "      <th>cabin</th>\n",
       "      <th>city</th>\n",
       "      <th>city_fuel_economy</th>\n",
       "      <th>combine_fuel_economy</th>\n",
       "      <th>...</th>\n",
       "      <th>transmission</th>\n",
       "      <th>transmission_display</th>\n",
       "      <th>trimId</th>\n",
       "      <th>trim_name</th>\n",
       "      <th>vehicle_damage_category</th>\n",
       "      <th>wheel_system</th>\n",
       "      <th>wheel_system_display</th>\n",
       "      <th>wheelbase</th>\n",
       "      <th>width</th>\n",
       "      <th>year</th>\n",
       "    </tr>\n",
       "  </thead>\n",
       "  <tbody>\n",
       "    <tr>\n",
       "      <th>0</th>\n",
       "      <td>1FTEW1CP3LFC52880</td>\n",
       "      <td>43.6 in</td>\n",
       "      <td>NaN</td>\n",
       "      <td>--</td>\n",
       "      <td>67.1 in</td>\n",
       "      <td>Pickup Truck</td>\n",
       "      <td>NaN</td>\n",
       "      <td>Huntsville</td>\n",
       "      <td>20.0</td>\n",
       "      <td>NaN</td>\n",
       "      <td>...</td>\n",
       "      <td>A</td>\n",
       "      <td>Automatic</td>\n",
       "      <td>t87709</td>\n",
       "      <td>XL SuperCrew RWD</td>\n",
       "      <td>NaN</td>\n",
       "      <td>4X2</td>\n",
       "      <td>4X2</td>\n",
       "      <td>145 in</td>\n",
       "      <td>96.8 in</td>\n",
       "      <td>2020</td>\n",
       "    </tr>\n",
       "    <tr>\n",
       "      <th>1</th>\n",
       "      <td>3N1CP5CV6LL501109</td>\n",
       "      <td>33.2 in</td>\n",
       "      <td>NaN</td>\n",
       "      <td>NaN</td>\n",
       "      <td>NaN</td>\n",
       "      <td>SUV / Crossover</td>\n",
       "      <td>NaN</td>\n",
       "      <td>Opelousas</td>\n",
       "      <td>31.0</td>\n",
       "      <td>NaN</td>\n",
       "      <td>...</td>\n",
       "      <td>CVT</td>\n",
       "      <td>Continuously Variable Transmission</td>\n",
       "      <td>t90150</td>\n",
       "      <td>SV FWD</td>\n",
       "      <td>NaN</td>\n",
       "      <td>FWD</td>\n",
       "      <td>Front-Wheel Drive</td>\n",
       "      <td>103.1 in</td>\n",
       "      <td>69.3 in</td>\n",
       "      <td>2020</td>\n",
       "    </tr>\n",
       "  </tbody>\n",
       "</table>\n",
       "<p>2 rows × 66 columns</p>\n",
       "</div>"
      ],
      "text/plain": [
       "                 vin back_legroom  bed bed_height bed_length        body_type  \\\n",
       "0  1FTEW1CP3LFC52880      43.6 in  NaN         --    67.1 in     Pickup Truck   \n",
       "1  3N1CP5CV6LL501109      33.2 in  NaN        NaN        NaN  SUV / Crossover   \n",
       "\n",
       "  cabin        city  city_fuel_economy  combine_fuel_economy  ...  \\\n",
       "0   NaN  Huntsville               20.0                   NaN  ...   \n",
       "1   NaN   Opelousas               31.0                   NaN  ...   \n",
       "\n",
       "   transmission                transmission_display  trimId         trim_name  \\\n",
       "0             A                           Automatic  t87709  XL SuperCrew RWD   \n",
       "1           CVT  Continuously Variable Transmission  t90150            SV FWD   \n",
       "\n",
       "   vehicle_damage_category wheel_system wheel_system_display wheelbase  \\\n",
       "0                      NaN          4X2                  4X2    145 in   \n",
       "1                      NaN          FWD    Front-Wheel Drive  103.1 in   \n",
       "\n",
       "     width  year  \n",
       "0  96.8 in  2020  \n",
       "1  69.3 in  2020  \n",
       "\n",
       "[2 rows x 66 columns]"
      ]
     },
     "execution_count": 2,
     "metadata": {},
     "output_type": "execute_result"
    }
   ],
   "source": [
    "df_raw = pd.read_csv('https://raw.githubusercontent.com/chee154/ml-Py-used_cars/main/data/kaggle_used_cars_data.csv')\n",
    "df_raw.head(2)"
   ]
  },
  {
   "cell_type": "code",
   "execution_count": 3,
   "metadata": {},
   "outputs": [
    {
     "data": {
      "text/html": [
       "<div>\n",
       "<style scoped>\n",
       "    .dataframe tbody tr th:only-of-type {\n",
       "        vertical-align: middle;\n",
       "    }\n",
       "\n",
       "    .dataframe tbody tr th {\n",
       "        vertical-align: top;\n",
       "    }\n",
       "\n",
       "    .dataframe thead th {\n",
       "        text-align: right;\n",
       "    }\n",
       "</style>\n",
       "<table border=\"1\" class=\"dataframe\">\n",
       "  <thead>\n",
       "    <tr style=\"text-align: right;\">\n",
       "      <th></th>\n",
       "      <th>body_type</th>\n",
       "      <th>cabin</th>\n",
       "      <th>city</th>\n",
       "      <th>daysonmarket</th>\n",
       "      <th>engine_cylinders</th>\n",
       "      <th>engine_displacement</th>\n",
       "      <th>engine_type</th>\n",
       "      <th>fuel_tank_volume</th>\n",
       "      <th>fuel_type</th>\n",
       "      <th>highway_fuel_economy</th>\n",
       "      <th>...</th>\n",
       "      <th>make_name</th>\n",
       "      <th>maximum_seating</th>\n",
       "      <th>mileage</th>\n",
       "      <th>model_name</th>\n",
       "      <th>owner_count</th>\n",
       "      <th>power</th>\n",
       "      <th>price</th>\n",
       "      <th>torque</th>\n",
       "      <th>transmission</th>\n",
       "      <th>year</th>\n",
       "    </tr>\n",
       "  </thead>\n",
       "  <tbody>\n",
       "    <tr>\n",
       "      <th>0</th>\n",
       "      <td>Pickup Truck</td>\n",
       "      <td>NaN</td>\n",
       "      <td>Huntsville</td>\n",
       "      <td>26</td>\n",
       "      <td>V6</td>\n",
       "      <td>3500.0</td>\n",
       "      <td>V6</td>\n",
       "      <td>26 gal</td>\n",
       "      <td>Gasoline</td>\n",
       "      <td>26.0</td>\n",
       "      <td>...</td>\n",
       "      <td>Ford</td>\n",
       "      <td>6 seats</td>\n",
       "      <td>26.0</td>\n",
       "      <td>F-150</td>\n",
       "      <td>NaN</td>\n",
       "      <td>395 hp @ 5,750 RPM</td>\n",
       "      <td>39502.0</td>\n",
       "      <td>400 lb-ft @ 4,500 RPM</td>\n",
       "      <td>A</td>\n",
       "      <td>2020</td>\n",
       "    </tr>\n",
       "    <tr>\n",
       "      <th>1</th>\n",
       "      <td>SUV / Crossover</td>\n",
       "      <td>NaN</td>\n",
       "      <td>Opelousas</td>\n",
       "      <td>210</td>\n",
       "      <td>I4</td>\n",
       "      <td>1600.0</td>\n",
       "      <td>I4</td>\n",
       "      <td>10.8 gal</td>\n",
       "      <td>Gasoline</td>\n",
       "      <td>36.0</td>\n",
       "      <td>...</td>\n",
       "      <td>Nissan</td>\n",
       "      <td>5 seats</td>\n",
       "      <td>12.0</td>\n",
       "      <td>Kicks</td>\n",
       "      <td>NaN</td>\n",
       "      <td>122 hp @ 6,300 RPM</td>\n",
       "      <td>22210.0</td>\n",
       "      <td>114 lb-ft @ 4,000 RPM</td>\n",
       "      <td>CVT</td>\n",
       "      <td>2020</td>\n",
       "    </tr>\n",
       "  </tbody>\n",
       "</table>\n",
       "<p>2 rows × 21 columns</p>\n",
       "</div>"
      ],
      "text/plain": [
       "         body_type cabin        city  daysonmarket engine_cylinders  \\\n",
       "0     Pickup Truck   NaN  Huntsville            26               V6   \n",
       "1  SUV / Crossover   NaN   Opelousas           210               I4   \n",
       "\n",
       "   engine_displacement engine_type fuel_tank_volume fuel_type  \\\n",
       "0               3500.0          V6           26 gal  Gasoline   \n",
       "1               1600.0          I4         10.8 gal  Gasoline   \n",
       "\n",
       "   highway_fuel_economy  ... make_name maximum_seating mileage  model_name  \\\n",
       "0                  26.0  ...      Ford         6 seats    26.0       F-150   \n",
       "1                  36.0  ...    Nissan         5 seats    12.0       Kicks   \n",
       "\n",
       "  owner_count               power    price                 torque  \\\n",
       "0         NaN  395 hp @ 5,750 RPM  39502.0  400 lb-ft @ 4,500 RPM   \n",
       "1         NaN  122 hp @ 6,300 RPM  22210.0  114 lb-ft @ 4,000 RPM   \n",
       "\n",
       "  transmission  year  \n",
       "0            A  2020  \n",
       "1          CVT  2020  \n",
       "\n",
       "[2 rows x 21 columns]"
      ]
     },
     "execution_count": 3,
     "metadata": {},
     "output_type": "execute_result"
    }
   ],
   "source": [
    "#subsetting columns by referencing the column indexes\n",
    "df_cln_1 = df_raw.iloc[:, np.r_[5:8, 10, 13:16, 22:24, 26:27, 36:37, 42:49, 55:57, 65]]\n",
    "df_cln_1.head(2)"
   ]
  },
  {
   "cell_type": "code",
   "execution_count": 4,
   "metadata": {},
   "outputs": [
    {
     "name": "stdout",
     "output_type": "stream",
     "text": [
      "body_type                object\n",
      "cabin                    object\n",
      "city                     object\n",
      "daysonmarket              int64\n",
      "engine_cylinders         object\n",
      "engine_displacement     float64\n",
      "engine_type              object\n",
      "fuel_tank_volume         object\n",
      "fuel_type                object\n",
      "highway_fuel_economy    float64\n",
      "listed_date              object\n",
      "make_name                object\n",
      "maximum_seating          object\n",
      "mileage                 float64\n",
      "model_name               object\n",
      "owner_count             float64\n",
      "power                    object\n",
      "price                   float64\n",
      "torque                   object\n",
      "transmission             object\n",
      "year                      int64\n",
      "dtype: object\n",
      "       daysonmarket  engine_displacement  highway_fuel_economy        mileage  \\\n",
      "count  30000.000000         28227.000000          25067.000000   28628.000000   \n",
      "mean      75.603600          2972.352712             29.466310   31169.266487   \n",
      "std      108.743797          1349.350837              7.826778   45224.927636   \n",
      "min        0.000000           700.000000             12.000000       0.000000   \n",
      "25%       14.000000          2000.000000             25.000000       6.000000   \n",
      "50%       36.000000          2500.000000             29.000000    8598.500000   \n",
      "75%       80.000000          3600.000000             33.000000   43846.000000   \n",
      "max     2227.000000          8100.000000            127.000000  369016.000000   \n",
      "\n",
      "        owner_count          price          year  \n",
      "count  14900.000000   30000.000000  30000.000000  \n",
      "mean       1.537047   29854.286763   2017.675100  \n",
      "std        0.920585   18620.579826      4.303064  \n",
      "min        1.000000     484.000000   1941.000000  \n",
      "25%        1.000000   18289.500000   2017.000000  \n",
      "50%        1.000000   26366.500000   2020.000000  \n",
      "75%        2.000000   37985.000000   2020.000000  \n",
      "max       12.000000  432925.000000   2021.000000  \n"
     ]
    }
   ],
   "source": [
    "#validating data types of subsetted columns\n",
    "print(df_cln_1.dtypes)\n",
    "\n",
    "# not only the numerical types are being displayed. We need to fix the other ones.\n",
    "print(df_cln_1.describe())"
   ]
  },
  {
   "cell_type": "markdown",
   "metadata": {},
   "source": [
    "Obviously at this point we need to convert a few of our data columns to the appropriate data type by removing parts of the value string that we do not need such as \"gal\" in the ful_tank_volume"
   ]
  },
  {
   "cell_type": "code",
   "execution_count": 5,
   "metadata": {},
   "outputs": [
    {
     "name": "stdout",
     "output_type": "stream",
     "text": [
      "['V6' 'I4' nan 'V8' 'H4' 'H6' 'I6' 'V6 Flex Fuel Vehicle'\n",
      " 'V8 Flex Fuel Vehicle' 'I3' 'I6 Diesel' 'V6 Diesel' 'I4 Hybrid' 'V10'\n",
      " 'I5' 'I2' 'I4 Diesel' 'V8 Biodiesel' 'V8 Diesel' 'I4 Flex Fuel Vehicle'\n",
      " 'V6 Biodiesel' 'V12' 'V6 Hybrid' 'V8 Hybrid' 'W12' 'H4 Hybrid'\n",
      " 'I5 Diesel']\n",
      "['V6' 'I4' nan 'V8' 'H4' 'H6' 'I6' 'V6 Flex Fuel Vehicle'\n",
      " 'V8 Flex Fuel Vehicle' 'I3' 'I6 Diesel' 'V6 Diesel' 'I4 Hybrid' 'V10'\n",
      " 'I5' 'I2' 'I4 Diesel' 'V8 Biodiesel' 'V8 Diesel' 'I4 Flex Fuel Vehicle'\n",
      " 'V6 Biodiesel' 'V12' 'V6 Hybrid' 'V8 Hybrid' 'W12' 'H4 Hybrid'\n",
      " 'I5 Diesel']\n",
      "['26 gal' '10.8 gal' '21 gal' nan '19 gal' '19.3 gal' '13.5 gal'\n",
      " '12.7 gal' '--' '18 gal' '15.3 gal' '18.5 gal' '19.4 gal' '14.2 gal'\n",
      " '13.2 gal' '24 gal' '28 gal' '15.1 gal' '16.2 gal' '22.5 gal' '16.4 gal'\n",
      " '14 gal' '15.8 gal' '12.4 gal' '15.9 gal' '18.8 gal' '27.8 gal'\n",
      " '19.5 gal' '15.6 gal' '15.5 gal' '14.5 gal' '19.2 gal' '18.6 gal'\n",
      " '8.9 gal' '48 gal' '16.6 gal' '22.4 gal' '17.4 gal' '24.6 gal' '21.1 gal'\n",
      " '14.7 gal' '20.1 gal' '35 gal' '32 gal' '11.9 gal' '22 gal' '17.1 gal'\n",
      " '14.8 gal' '23 gal' '14.9 gal' '23.3 gal' '21.9 gal' '17.3 gal'\n",
      " '26.4 gal' '13.7 gal' '14.4 gal' '12.8 gal' '16 gal' '2.4 gal' '7 gal'\n",
      " '14.6 gal' '17.5 gal' '18.1 gal' '20 gal' '16.9 gal' '17.9 gal'\n",
      " '23.6 gal' '23.7 gal' '10.6 gal' '13 gal' '15.7 gal' '11.4 gal' '9 gal'\n",
      " '14.3 gal' '17 gal' '36 gal' '28.3 gal' '31 gal' '34 gal' '21.7 gal'\n",
      " '20.6 gal' '16.5 gal' '18.3 gal' '15.4 gal' '12.2 gal' '13.6 gal'\n",
      " '20.4 gal' '15 gal' '17.2 gal' '23.8 gal' '30 gal' '21.5 gal' '27.6 gal'\n",
      " '19.8 gal' '25.1 gal' '20.3 gal' '16.3 gal' '24.5 gal' '16.1 gal'\n",
      " '33.5 gal' '17.7 gal' '21.8 gal' '21.4 gal' '19.1 gal' '10.5 gal'\n",
      " '40 gal' '25 gal' '11.1 gal' '18.4 gal' '9.3 gal' '22.2 gal' '27.7 gal'\n",
      " '29 gal' '11.3 gal' '20.5 gal' '8.7 gal' '9.2 gal' '63.5 gal' '17.8 gal'\n",
      " '16.8 gal' '27 gal' '11.8 gal' '25.4 gal' '9.5 gal' '11 gal' '38 gal'\n",
      " '11.6 gal' '52 gal' '23.5 gal' '12.1 gal' '22.7 gal' '12 gal' '1.9 gal'\n",
      " '7.7 gal' '2.3 gal' '17.6 gal' '12.6 gal' '10 gal' '33 gal' '30.5 gal'\n",
      " '15.2 gal' '27.3 gal' '21.6 gal' '39 gal' '24.3 gal' '20.2 gal'\n",
      " '31.5 gal' '44 gal' '23.2 gal']\n",
      "['6 seats' '5 seats' '7 seats' nan '4 seats' '8 seats' '2 seats' '3 seats'\n",
      " '9 seats' '15 seats' '10 seats' '12 seats' '--']\n"
     ]
    }
   ],
   "source": [
    "#profiling class types:\n",
    "for col in ['engine_cylinders', 'engine_type','fuel_tank_volume','maximum_seating']:\n",
    "        print(df_cln_1[col].unique())"
   ]
  },
  {
   "cell_type": "markdown",
   "metadata": {},
   "source": [
    "After doing a quick profiling on some our identified columsn, we can see that both engine_cylinders and engine_type are the same. Additionally, we also found that the prefixes and suffixes attached to them are descriptive of it and thus not a continuous value. \n",
    "\n",
    "Regarding fuel_tank_volume and maximum_seating, we can see that there appears to be a pattern in the suffixes, \"gal\" and \"seats\" accordingly. We will now remove them and then convert all values to numeric."
   ]
  },
  {
   "cell_type": "code",
   "execution_count": 6,
   "metadata": {
    "scrolled": true
   },
   "outputs": [],
   "source": [
    "#removing unecesary string values in columns\n",
    "#then cleaning up any values that contain '--' and replacing it with NaN\n",
    "#Lastly, converting the value first to a string type and then to a float type\n",
    "\n",
    "df_cln_1['fuel_tank_volume']=df_cln_1['fuel_tank_volume'].str.replace(' gal', '').replace('--',np.NaN).astype(str).astype(float)\n",
    "df_cln_1['maximum_seating']=df_cln_1['maximum_seating'].str.replace(' seats', '').replace('--',np.NaN).astype(str).astype(float)"
   ]
  },
  {
   "cell_type": "code",
   "execution_count": 7,
   "metadata": {},
   "outputs": [
    {
     "name": "stdout",
     "output_type": "stream",
     "text": [
      "Total # of Records: 30000\n",
      "Total # of Columns: 21\n"
     ]
    }
   ],
   "source": [
    "print(\"Total # of Records: \" + str(df_cln_1.shape[0]))\n",
    "print(\"Total # of Columns: \" + str(df_cln_1.shape[1]))"
   ]
  },
  {
   "cell_type": "code",
   "execution_count": 8,
   "metadata": {},
   "outputs": [
    {
     "name": "stdout",
     "output_type": "stream",
     "text": [
      "['V6' 'I4' nan 'V8' 'H4' 'H6' 'I6' 'V6 Flex Fuel Vehicle'\n",
      " 'V8 Flex Fuel Vehicle' 'I3' 'I6 Diesel' 'V6 Diesel' 'I4 Hybrid' 'V10'\n",
      " 'I5' 'I2' 'I4 Diesel' 'V8 Biodiesel' 'V8 Diesel' 'I4 Flex Fuel Vehicle'\n",
      " 'V6 Biodiesel' 'V12' 'V6 Hybrid' 'V8 Hybrid' 'W12' 'H4 Hybrid'\n",
      " 'I5 Diesel']\n",
      "['V6' 'I4' nan 'V8' 'H4' 'H6' 'I6' 'V6 Flex Fuel Vehicle'\n",
      " 'V8 Flex Fuel Vehicle' 'I3' 'I6 Diesel' 'V6 Diesel' 'I4 Hybrid' 'V10'\n",
      " 'I5' 'I2' 'I4 Diesel' 'V8 Biodiesel' 'V8 Diesel' 'I4 Flex Fuel Vehicle'\n",
      " 'V6 Biodiesel' 'V12' 'V6 Hybrid' 'V8 Hybrid' 'W12' 'H4 Hybrid'\n",
      " 'I5 Diesel']\n",
      "[26.  10.8 21.   nan 19.  19.3 13.5 12.7 18.  15.3 18.5 19.4 14.2 13.2\n",
      " 24.  28.  15.1 16.2 22.5 16.4 14.  15.8 12.4 15.9 18.8 27.8 19.5 15.6\n",
      " 15.5 14.5 19.2 18.6  8.9 48.  16.6 22.4 17.4 24.6 21.1 14.7 20.1 35.\n",
      " 32.  11.9 22.  17.1 14.8 23.  14.9 23.3 21.9 17.3 26.4 13.7 14.4 12.8\n",
      " 16.   2.4  7.  14.6 17.5 18.1 20.  16.9 17.9 23.6 23.7 10.6 13.  15.7\n",
      " 11.4  9.  14.3 17.  36.  28.3 31.  34.  21.7 20.6 16.5 18.3 15.4 12.2\n",
      " 13.6 20.4 15.  17.2 23.8 30.  21.5 27.6 19.8 25.1 20.3 16.3 24.5 16.1\n",
      " 33.5 17.7 21.8 21.4 19.1 10.5 40.  25.  11.1 18.4  9.3 22.2 27.7 29.\n",
      " 11.3 20.5  8.7  9.2 63.5 17.8 16.8 27.  11.8 25.4  9.5 11.  38.  11.6\n",
      " 52.  23.5 12.1 22.7 12.   1.9  7.7  2.3 17.6 12.6 10.  33.  30.5 15.2\n",
      " 27.3 21.6 39.  24.3 20.2 31.5 44.  23.2]\n",
      "[ 6.  5.  7. nan  4.  8.  2.  3.  9. 15. 10. 12.]\n"
     ]
    }
   ],
   "source": [
    "for col in ['engine_cylinders', 'engine_type','fuel_tank_volume','maximum_seating']:\n",
    "        print(df_cln_1[col].unique())"
   ]
  },
  {
   "cell_type": "code",
   "execution_count": null,
   "metadata": {},
   "outputs": [],
   "source": []
  },
  {
   "cell_type": "code",
   "execution_count": null,
   "metadata": {},
   "outputs": [],
   "source": []
  },
  {
   "cell_type": "code",
   "execution_count": null,
   "metadata": {},
   "outputs": [],
   "source": []
  },
  {
   "cell_type": "code",
   "execution_count": null,
   "metadata": {},
   "outputs": [],
   "source": []
  },
  {
   "cell_type": "code",
   "execution_count": null,
   "metadata": {},
   "outputs": [],
   "source": []
  },
  {
   "cell_type": "code",
   "execution_count": null,
   "metadata": {},
   "outputs": [],
   "source": [
    "# finding all columns that have null values\n",
    "for i in df_cln_1.columns:\n",
    "    df_cln_1[i].isnull().any()\n",
    "    print(i)"
   ]
  },
  {
   "cell_type": "code",
   "execution_count": null,
   "metadata": {},
   "outputs": [],
   "source": []
  },
  {
   "cell_type": "code",
   "execution_count": null,
   "metadata": {},
   "outputs": [],
   "source": []
  },
  {
   "cell_type": "code",
   "execution_count": null,
   "metadata": {},
   "outputs": [],
   "source": []
  },
  {
   "cell_type": "code",
   "execution_count": null,
   "metadata": {},
   "outputs": [],
   "source": []
  }
 ],
 "metadata": {
  "kernelspec": {
   "display_name": "Python 3",
   "language": "python",
   "name": "python3"
  },
  "language_info": {
   "codemirror_mode": {
    "name": "ipython",
    "version": 3
   },
   "file_extension": ".py",
   "mimetype": "text/x-python",
   "name": "python",
   "nbconvert_exporter": "python",
   "pygments_lexer": "ipython3",
   "version": "3.8.5"
  }
 },
 "nbformat": 4,
 "nbformat_minor": 4
}
